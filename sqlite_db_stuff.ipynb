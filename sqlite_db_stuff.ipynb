{
 "cells": [
  {
   "cell_type": "markdown",
   "metadata": {},
   "source": [
    "## Testing Storing NP Arrays in SQLite"
   ]
  },
  {
   "cell_type": "code",
   "execution_count": 1,
   "metadata": {},
   "outputs": [],
   "source": [
    "import pickle\n",
    "import pandas as pd\n",
    "import numpy as np\n",
    "from sql_scripts import create_connection, encode_array_for_sql, decode_array_from_sql"
   ]
  },
  {
   "cell_type": "code",
   "execution_count": 2,
   "metadata": {},
   "outputs": [
    {
     "name": "stdout",
     "output_type": "stream",
     "text": [
      "2.6.0\n"
     ]
    }
   ],
   "source": [
    "conn = create_connection(\"spectrograms.db\")"
   ]
  },
  {
   "cell_type": "code",
   "execution_count": 3,
   "metadata": {},
   "outputs": [
    {
     "data": {
      "text/plain": [
       "str"
      ]
     },
     "execution_count": 3,
     "metadata": {},
     "output_type": "execute_result"
    }
   ],
   "source": [
    "t_t_v = ['train','test','train','val','val','test','test','val','train']\n",
    "words = ['cat','one','left','up','car','seven','bird','hello','goodbye']\n",
    "\n",
    "image = np.array(\n",
    "[\n",
    "    [0.,1.,2.,3.,4.],\n",
    "    [0.,1.,2.,3.,4.],\n",
    "    [0.,1.,2.,3.,4.],\n",
    "    [0.,1.,2.,3.,4.],\n",
    "])\n",
    "\n",
    "x_sizes = []\n",
    "y_sizes = []\n",
    "images = []\n",
    "for i in range(9):\n",
    "    x_sizes.append(image.shape[1])\n",
    "    y_sizes.append(image.shape[0])\n",
    "    images.append(encode_array_for_sql(image))\n",
    "type(images[0])"
   ]
  },
  {
   "cell_type": "code",
   "execution_count": 5,
   "metadata": {},
   "outputs": [
    {
     "data": {
      "text/html": [
       "<div>\n",
       "<style scoped>\n",
       "    .dataframe tbody tr th:only-of-type {\n",
       "        vertical-align: middle;\n",
       "    }\n",
       "\n",
       "    .dataframe tbody tr th {\n",
       "        vertical-align: top;\n",
       "    }\n",
       "\n",
       "    .dataframe thead th {\n",
       "        text-align: right;\n",
       "    }\n",
       "</style>\n",
       "<table border=\"1\" class=\"dataframe\">\n",
       "  <thead>\n",
       "    <tr style=\"text-align: right;\">\n",
       "      <th></th>\n",
       "      <th>t_t_v</th>\n",
       "      <th>words</th>\n",
       "      <th>x_size</th>\n",
       "      <th>y_size</th>\n",
       "      <th>images</th>\n",
       "    </tr>\n",
       "  </thead>\n",
       "  <tbody>\n",
       "    <tr>\n",
       "      <th>0</th>\n",
       "      <td>train</td>\n",
       "      <td>cat</td>\n",
       "      <td>5</td>\n",
       "      <td>4</td>\n",
       "      <td>\u0000\u0000\u0000\u0000\u0000\u0000\u0000\u0000\u0000\u0000\u0000\u0000\u0000\u0000ð?\u0000\u0000\u0000\u0000\u0000\u0000\u0000@\u0000\u0000\u0000\u0000\u0000\u0000\b@\u0000\u0000\u0000\u0000\u0000\u0000\u0010@\u0000\u0000\u0000\u0000\u0000\u0000...</td>\n",
       "    </tr>\n",
       "    <tr>\n",
       "      <th>1</th>\n",
       "      <td>test</td>\n",
       "      <td>one</td>\n",
       "      <td>5</td>\n",
       "      <td>4</td>\n",
       "      <td>\u0000\u0000\u0000\u0000\u0000\u0000\u0000\u0000\u0000\u0000\u0000\u0000\u0000\u0000ð?\u0000\u0000\u0000\u0000\u0000\u0000\u0000@\u0000\u0000\u0000\u0000\u0000\u0000\b@\u0000\u0000\u0000\u0000\u0000\u0000\u0010@\u0000\u0000\u0000\u0000\u0000\u0000...</td>\n",
       "    </tr>\n",
       "    <tr>\n",
       "      <th>2</th>\n",
       "      <td>train</td>\n",
       "      <td>left</td>\n",
       "      <td>5</td>\n",
       "      <td>4</td>\n",
       "      <td>\u0000\u0000\u0000\u0000\u0000\u0000\u0000\u0000\u0000\u0000\u0000\u0000\u0000\u0000ð?\u0000\u0000\u0000\u0000\u0000\u0000\u0000@\u0000\u0000\u0000\u0000\u0000\u0000\b@\u0000\u0000\u0000\u0000\u0000\u0000\u0010@\u0000\u0000\u0000\u0000\u0000\u0000...</td>\n",
       "    </tr>\n",
       "    <tr>\n",
       "      <th>3</th>\n",
       "      <td>val</td>\n",
       "      <td>up</td>\n",
       "      <td>5</td>\n",
       "      <td>4</td>\n",
       "      <td>\u0000\u0000\u0000\u0000\u0000\u0000\u0000\u0000\u0000\u0000\u0000\u0000\u0000\u0000ð?\u0000\u0000\u0000\u0000\u0000\u0000\u0000@\u0000\u0000\u0000\u0000\u0000\u0000\b@\u0000\u0000\u0000\u0000\u0000\u0000\u0010@\u0000\u0000\u0000\u0000\u0000\u0000...</td>\n",
       "    </tr>\n",
       "    <tr>\n",
       "      <th>4</th>\n",
       "      <td>val</td>\n",
       "      <td>car</td>\n",
       "      <td>5</td>\n",
       "      <td>4</td>\n",
       "      <td>\u0000\u0000\u0000\u0000\u0000\u0000\u0000\u0000\u0000\u0000\u0000\u0000\u0000\u0000ð?\u0000\u0000\u0000\u0000\u0000\u0000\u0000@\u0000\u0000\u0000\u0000\u0000\u0000\b@\u0000\u0000\u0000\u0000\u0000\u0000\u0010@\u0000\u0000\u0000\u0000\u0000\u0000...</td>\n",
       "    </tr>\n",
       "    <tr>\n",
       "      <th>5</th>\n",
       "      <td>test</td>\n",
       "      <td>seven</td>\n",
       "      <td>5</td>\n",
       "      <td>4</td>\n",
       "      <td>\u0000\u0000\u0000\u0000\u0000\u0000\u0000\u0000\u0000\u0000\u0000\u0000\u0000\u0000ð?\u0000\u0000\u0000\u0000\u0000\u0000\u0000@\u0000\u0000\u0000\u0000\u0000\u0000\b@\u0000\u0000\u0000\u0000\u0000\u0000\u0010@\u0000\u0000\u0000\u0000\u0000\u0000...</td>\n",
       "    </tr>\n",
       "    <tr>\n",
       "      <th>6</th>\n",
       "      <td>test</td>\n",
       "      <td>bird</td>\n",
       "      <td>5</td>\n",
       "      <td>4</td>\n",
       "      <td>\u0000\u0000\u0000\u0000\u0000\u0000\u0000\u0000\u0000\u0000\u0000\u0000\u0000\u0000ð?\u0000\u0000\u0000\u0000\u0000\u0000\u0000@\u0000\u0000\u0000\u0000\u0000\u0000\b@\u0000\u0000\u0000\u0000\u0000\u0000\u0010@\u0000\u0000\u0000\u0000\u0000\u0000...</td>\n",
       "    </tr>\n",
       "    <tr>\n",
       "      <th>7</th>\n",
       "      <td>val</td>\n",
       "      <td>hello</td>\n",
       "      <td>5</td>\n",
       "      <td>4</td>\n",
       "      <td>\u0000\u0000\u0000\u0000\u0000\u0000\u0000\u0000\u0000\u0000\u0000\u0000\u0000\u0000ð?\u0000\u0000\u0000\u0000\u0000\u0000\u0000@\u0000\u0000\u0000\u0000\u0000\u0000\b@\u0000\u0000\u0000\u0000\u0000\u0000\u0010@\u0000\u0000\u0000\u0000\u0000\u0000...</td>\n",
       "    </tr>\n",
       "    <tr>\n",
       "      <th>8</th>\n",
       "      <td>train</td>\n",
       "      <td>goodbye</td>\n",
       "      <td>5</td>\n",
       "      <td>4</td>\n",
       "      <td>\u0000\u0000\u0000\u0000\u0000\u0000\u0000\u0000\u0000\u0000\u0000\u0000\u0000\u0000ð?\u0000\u0000\u0000\u0000\u0000\u0000\u0000@\u0000\u0000\u0000\u0000\u0000\u0000\b@\u0000\u0000\u0000\u0000\u0000\u0000\u0010@\u0000\u0000\u0000\u0000\u0000\u0000...</td>\n",
       "    </tr>\n",
       "  </tbody>\n",
       "</table>\n",
       "</div>"
      ],
      "text/plain": [
       "   t_t_v    words  x_size  y_size  \\\n",
       "0  train      cat       5       4   \n",
       "1   test      one       5       4   \n",
       "2  train     left       5       4   \n",
       "3    val       up       5       4   \n",
       "4    val      car       5       4   \n",
       "5   test    seven       5       4   \n",
       "6   test     bird       5       4   \n",
       "7    val    hello       5       4   \n",
       "8  train  goodbye       5       4   \n",
       "\n",
       "                                              images  \n",
       "0  \u0000\u0000\u0000\u0000\u0000\u0000\u0000\u0000\u0000\u0000\u0000\u0000\u0000\u0000ð?\u0000\u0000\u0000\u0000\u0000\u0000\u0000@\u0000\u0000\u0000\u0000\u0000\u0000\b@\u0000\u0000\u0000\u0000\u0000\u0000\u0010@\u0000\u0000\u0000\u0000\u0000\u0000...  \n",
       "1  \u0000\u0000\u0000\u0000\u0000\u0000\u0000\u0000\u0000\u0000\u0000\u0000\u0000\u0000ð?\u0000\u0000\u0000\u0000\u0000\u0000\u0000@\u0000\u0000\u0000\u0000\u0000\u0000\b@\u0000\u0000\u0000\u0000\u0000\u0000\u0010@\u0000\u0000\u0000\u0000\u0000\u0000...  \n",
       "2  \u0000\u0000\u0000\u0000\u0000\u0000\u0000\u0000\u0000\u0000\u0000\u0000\u0000\u0000ð?\u0000\u0000\u0000\u0000\u0000\u0000\u0000@\u0000\u0000\u0000\u0000\u0000\u0000\b@\u0000\u0000\u0000\u0000\u0000\u0000\u0010@\u0000\u0000\u0000\u0000\u0000\u0000...  \n",
       "3  \u0000\u0000\u0000\u0000\u0000\u0000\u0000\u0000\u0000\u0000\u0000\u0000\u0000\u0000ð?\u0000\u0000\u0000\u0000\u0000\u0000\u0000@\u0000\u0000\u0000\u0000\u0000\u0000\b@\u0000\u0000\u0000\u0000\u0000\u0000\u0010@\u0000\u0000\u0000\u0000\u0000\u0000...  \n",
       "4  \u0000\u0000\u0000\u0000\u0000\u0000\u0000\u0000\u0000\u0000\u0000\u0000\u0000\u0000ð?\u0000\u0000\u0000\u0000\u0000\u0000\u0000@\u0000\u0000\u0000\u0000\u0000\u0000\b@\u0000\u0000\u0000\u0000\u0000\u0000\u0010@\u0000\u0000\u0000\u0000\u0000\u0000...  \n",
       "5  \u0000\u0000\u0000\u0000\u0000\u0000\u0000\u0000\u0000\u0000\u0000\u0000\u0000\u0000ð?\u0000\u0000\u0000\u0000\u0000\u0000\u0000@\u0000\u0000\u0000\u0000\u0000\u0000\b@\u0000\u0000\u0000\u0000\u0000\u0000\u0010@\u0000\u0000\u0000\u0000\u0000\u0000...  \n",
       "6  \u0000\u0000\u0000\u0000\u0000\u0000\u0000\u0000\u0000\u0000\u0000\u0000\u0000\u0000ð?\u0000\u0000\u0000\u0000\u0000\u0000\u0000@\u0000\u0000\u0000\u0000\u0000\u0000\b@\u0000\u0000\u0000\u0000\u0000\u0000\u0010@\u0000\u0000\u0000\u0000\u0000\u0000...  \n",
       "7  \u0000\u0000\u0000\u0000\u0000\u0000\u0000\u0000\u0000\u0000\u0000\u0000\u0000\u0000ð?\u0000\u0000\u0000\u0000\u0000\u0000\u0000@\u0000\u0000\u0000\u0000\u0000\u0000\b@\u0000\u0000\u0000\u0000\u0000\u0000\u0010@\u0000\u0000\u0000\u0000\u0000\u0000...  \n",
       "8  \u0000\u0000\u0000\u0000\u0000\u0000\u0000\u0000\u0000\u0000\u0000\u0000\u0000\u0000ð?\u0000\u0000\u0000\u0000\u0000\u0000\u0000@\u0000\u0000\u0000\u0000\u0000\u0000\b@\u0000\u0000\u0000\u0000\u0000\u0000\u0010@\u0000\u0000\u0000\u0000\u0000\u0000...  "
      ]
     },
     "execution_count": 5,
     "metadata": {},
     "output_type": "execute_result"
    }
   ],
   "source": [
    "df = pd.DataFrame({'t_t_v':t_t_v,'words':words,'x_size':x_sizes,'y_size':y_sizes,'images':images})\n",
    "df.to_sql('specgrams', conn, if_exists='replace', index=False)\n",
    "\n",
    "verification_df = pd.read_sql('SELECT * FROM specgrams', conn)\n",
    "verification_df"
   ]
  },
  {
   "cell_type": "code",
   "execution_count": 6,
   "metadata": {},
   "outputs": [
    {
     "name": "stdout",
     "output_type": "stream",
     "text": [
      "[[0. 1. 2. 3. 4.]\n",
      " [0. 1. 2. 3. 4.]\n",
      " [0. 1. 2. 3. 4.]\n",
      " [0. 1. 2. 3. 4.]]\n",
      "[[0. 1. 2. 3. 4.]\n",
      " [0. 1. 2. 3. 4.]\n",
      " [0. 1. 2. 3. 4.]\n",
      " [0. 1. 2. 3. 4.]]\n",
      "[[0. 1. 2. 3. 4.]\n",
      " [0. 1. 2. 3. 4.]\n",
      " [0. 1. 2. 3. 4.]\n",
      " [0. 1. 2. 3. 4.]]\n",
      "[[0. 1. 2. 3. 4.]\n",
      " [0. 1. 2. 3. 4.]\n",
      " [0. 1. 2. 3. 4.]\n",
      " [0. 1. 2. 3. 4.]]\n",
      "[[0. 1. 2. 3. 4.]\n",
      " [0. 1. 2. 3. 4.]\n",
      " [0. 1. 2. 3. 4.]\n",
      " [0. 1. 2. 3. 4.]]\n",
      "[[0. 1. 2. 3. 4.]\n",
      " [0. 1. 2. 3. 4.]\n",
      " [0. 1. 2. 3. 4.]\n",
      " [0. 1. 2. 3. 4.]]\n",
      "[[0. 1. 2. 3. 4.]\n",
      " [0. 1. 2. 3. 4.]\n",
      " [0. 1. 2. 3. 4.]\n",
      " [0. 1. 2. 3. 4.]]\n",
      "[[0. 1. 2. 3. 4.]\n",
      " [0. 1. 2. 3. 4.]\n",
      " [0. 1. 2. 3. 4.]\n",
      " [0. 1. 2. 3. 4.]]\n",
      "[[0. 1. 2. 3. 4.]\n",
      " [0. 1. 2. 3. 4.]\n",
      " [0. 1. 2. 3. 4.]\n",
      " [0. 1. 2. 3. 4.]]\n"
     ]
    }
   ],
   "source": [
    "for index, row in verification_df.iterrows():\n",
    "    print(decode_array_from_sql(row.images,row.x_size,row.y_size))"
   ]
  },
  {
   "cell_type": "code",
   "execution_count": null,
   "metadata": {},
   "outputs": [],
   "source": []
  }
 ],
 "metadata": {
  "kernelspec": {
   "display_name": "Python 3",
   "language": "python",
   "name": "python3"
  },
  "language_info": {
   "codemirror_mode": {
    "name": "ipython",
    "version": 3
   },
   "file_extension": ".py",
   "mimetype": "text/x-python",
   "name": "python",
   "nbconvert_exporter": "python",
   "pygments_lexer": "ipython3",
   "version": "3.8.5"
  }
 },
 "nbformat": 4,
 "nbformat_minor": 4
}
