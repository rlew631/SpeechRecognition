{
 "cells": [
  {
   "cell_type": "code",
   "execution_count": 1,
   "metadata": {},
   "outputs": [],
   "source": [
    "import pickle\n",
    "from sql_scripts import create_connection, encode_array_for_sql\n",
    "from sql_scripts import decode_array_from_sql, train_val_load\n",
    "\n",
    "import matplotlib.pyplot as plt\n",
    "\n",
    "import os\n",
    "import numpy as np\n",
    "import pandas as pd\n",
    "import random\n",
    "\n",
    "import tensorflow as tf\n",
    "import keras\n",
    "\n",
    "# # from tqdm.notebook import tqdm\n",
    "from sklearn.model_selection import StratifiedKFold, ShuffleSplit\n",
    "\n",
    "# custom functions\n",
    "from speech_dependencies import save_model_to_disk, graph_spectrogram, load_waves\n",
    "from model_dependencies import new_keras, plot_results\n",
    "plt.rcParams['figure.dpi'] = 80"
   ]
  },
  {
   "cell_type": "markdown",
   "metadata": {},
   "source": [
    "## Creating a Directory for the Files"
   ]
  },
  {
   "cell_type": "code",
   "execution_count": 2,
   "metadata": {},
   "outputs": [
    {
     "data": {
      "text/html": [
       "<div>\n",
       "<style scoped>\n",
       "    .dataframe tbody tr th:only-of-type {\n",
       "        vertical-align: middle;\n",
       "    }\n",
       "\n",
       "    .dataframe tbody tr th {\n",
       "        vertical-align: top;\n",
       "    }\n",
       "\n",
       "    .dataframe thead th {\n",
       "        text-align: right;\n",
       "    }\n",
       "</style>\n",
       "<table border=\"1\" class=\"dataframe\">\n",
       "  <thead>\n",
       "    <tr style=\"text-align: right;\">\n",
       "      <th></th>\n",
       "      <th>filename</th>\n",
       "      <th>target</th>\n",
       "      <th>train_val_test</th>\n",
       "    </tr>\n",
       "  </thead>\n",
       "  <tbody>\n",
       "    <tr>\n",
       "      <th>0</th>\n",
       "      <td>bed/00176480_nohash_0.wav</td>\n",
       "      <td>bed</td>\n",
       "      <td>train</td>\n",
       "    </tr>\n",
       "    <tr>\n",
       "      <th>1</th>\n",
       "      <td>bed/004ae714_nohash_0.wav</td>\n",
       "      <td>bed</td>\n",
       "      <td>train</td>\n",
       "    </tr>\n",
       "    <tr>\n",
       "      <th>2</th>\n",
       "      <td>bed/004ae714_nohash_1.wav</td>\n",
       "      <td>bed</td>\n",
       "      <td>train</td>\n",
       "    </tr>\n",
       "    <tr>\n",
       "      <th>3</th>\n",
       "      <td>bed/00f0204f_nohash_0.wav</td>\n",
       "      <td>bed</td>\n",
       "      <td>train</td>\n",
       "    </tr>\n",
       "    <tr>\n",
       "      <th>4</th>\n",
       "      <td>bed/00f0204f_nohash_1.wav</td>\n",
       "      <td>bed</td>\n",
       "      <td>train</td>\n",
       "    </tr>\n",
       "  </tbody>\n",
       "</table>\n",
       "</div>"
      ],
      "text/plain": [
       "                    filename target train_val_test\n",
       "0  bed/00176480_nohash_0.wav    bed          train\n",
       "1  bed/004ae714_nohash_0.wav    bed          train\n",
       "2  bed/004ae714_nohash_1.wav    bed          train\n",
       "3  bed/00f0204f_nohash_0.wav    bed          train\n",
       "4  bed/00f0204f_nohash_1.wav    bed          train"
      ]
     },
     "execution_count": 2,
     "metadata": {},
     "output_type": "execute_result"
    }
   ],
   "source": [
    "folder_names = [f for f in os.listdir('train/audio') if not 'background' in f]\n",
    "folder_names.sort()\n",
    "\n",
    "file = open(\"train/testing_list.txt\", \"r\")\n",
    "testing_list = file.read().split('\\n')\n",
    "file.close()\n",
    "file = open(\"train/validation_list.txt\", \"r\")\n",
    "validation_list = file.read().split('\\n')\n",
    "\n",
    "master_file_list = []\n",
    "master_target_list = []\n",
    "train_val_test_list = []\n",
    "for phrase in folder_names:\n",
    "    file_list = [phrase + '/' + f for f in os.listdir('train/audio/' + phrase) if '.wav' in f]\n",
    "    for file in file_list:\n",
    "        if file in testing_list:\n",
    "            train_val_test_list.append('test')\n",
    "        elif file in validation_list:\n",
    "            train_val_test_list.append('val')\n",
    "        else:\n",
    "            train_val_test_list.append('train')\n",
    "        master_target_list.append(phrase)\n",
    "        master_file_list.append(file)\n",
    "data = np.transpose(np.array([master_file_list, master_target_list, train_val_test_list]))\n",
    "master_df = pd.DataFrame(data = data, columns=['filename','target','train_val_test'])\n",
    "master_df.head()"
   ]
  },
  {
   "cell_type": "code",
   "execution_count": 3,
   "metadata": {},
   "outputs": [
    {
     "name": "stdout",
     "output_type": "stream",
     "text": [
      "Label mapping:\n",
      "{'sheila': 0, 'no': 1, 'six': 2, 'bed': 3, 'off': 4, 'house': 5, 'up': 6, 'five': 7, 'wow': 8, 'go': 9, 'stop': 10, 'one': 11, 'nine': 12, 'two': 13, 'yes': 14, 'tree': 15, 'on': 16, 'down': 17, 'happy': 18, 'four': 19, 'seven': 20, 'cat': 21, 'right': 22, 'eight': 23, 'marvin': 24, 'zero': 25, 'bird': 26, 'dog': 27, 'three': 28, 'left': 29}\n"
     ]
    }
   ],
   "source": [
    "num_classes = len(master_df['target'].unique().tolist())\n",
    "# SKF is just being used to batch the data into memory, not do any sort of k-fold training process\n",
    "\n",
    "X_master = master_df['filename'][[(val in ['train','val']) for val in master_df['train_val_test']]]\n",
    "y_master = master_df['target'][[(val in ['train','val']) for val in master_df['train_val_test']]]\n",
    "X_master, y_master = np.array(X_master), np.array(y_master)\n",
    "\n",
    "y_master_set = list(set(y_master))\n",
    "mapping = {}\n",
    "for y in range(len(y_master_set)):\n",
    "    mapping[y_master_set[y]] = y\n",
    "print(f'Label mapping:\\n{mapping}')"
   ]
  },
  {
   "cell_type": "markdown",
   "metadata": {},
   "source": [
    "## Converting the wav files to spectrograms and storing in a SQLite DB with info"
   ]
  },
  {
   "cell_type": "code",
   "execution_count": 4,
   "metadata": {},
   "outputs": [
    {
     "name": "stdout",
     "output_type": "stream",
     "text": [
      "2.6.0\n"
     ]
    }
   ],
   "source": [
    "conn = create_connection(\"spectrograms.db\")"
   ]
  },
  {
   "cell_type": "code",
   "execution_count": 5,
   "metadata": {},
   "outputs": [
    {
     "name": "stdout",
     "output_type": "stream",
     "text": [
      "working on batch: 1/150\n",
      "loading training set\n",
      "\tbad redgram shape\n"
     ]
    },
    {
     "name": "stderr",
     "output_type": "stream",
     "text": [
      "C:\\ProgramData\\Anaconda3\\lib\\site-packages\\matplotlib\\axes\\_axes.py:7558: RuntimeWarning: divide by zero encountered in log10\n",
      "  Z = 10. * np.log10(spec)\n"
     ]
    },
    {
     "name": "stdout",
     "output_type": "stream",
     "text": [
      "\tx shape (before reshape):(288, 14, 20)\n",
      "\tx shape (after reshape):(288, 14, 20, 1)\n",
      "\ty shape:(288, 30)\n"
     ]
    },
    {
     "data": {
      "image/png": "[encoded data removed]",
      "text/plain": [
       "<Figure size 60x40 with 2 Axes>"
      ]
     },
     "metadata": {
      "needs_background": "light"
     },
     "output_type": "display_data"
    },
    {
     "name": "stdout",
     "output_type": "stream",
     "text": [
      "loading validation set\n",
      "\tx shape (before reshape):(97, 14, 20)\n",
      "\tx shape (after reshape):(97, 14, 20, 1)\n",
      "\ty shape:(97, 30)\n"
     ]
    },
    {
     "data": {
      "image/png": "[encoded data removed]",
      "text/plain": [
       "<Figure size 60x40 with 2 Axes>"
      ]
     },
     "metadata": {
      "needs_background": "light"
     },
     "output_type": "display_data"
    },
    {
     "name": "stdout",
     "output_type": "stream",
     "text": [
      "working on batch: 2/150\n",
      "loading training set\n",
      "\tx shape (before reshape):(289, 14, 20)\n",
      "\tx shape (after reshape):(289, 14, 20, 1)\n",
      "\ty shape:(289, 30)\n"
     ]
    },
    {
     "data": {
      "image/png": "[encoded data removed]",
      "text/plain": [
       "<Figure size 60x40 with 2 Axes>"
      ]
     },
     "metadata": {
      "needs_background": "light"
     },
     "output_type": "display_data"
    },
    {
     "name": "stdout",
     "output_type": "stream",
     "text": [
      "loading validation set\n",
      "\tx shape (before reshape):(97, 14, 20)\n",
      "\tx shape (after reshape):(97, 14, 20, 1)\n",
      "\ty shape:(97, 30)\n"
     ]
    },
    {
     "data": {
      "image/png": "[encoded data removed]",
      "text/plain": [
       "<Figure size 60x40 with 2 Axes>"
      ]
     },
     "metadata": {
      "needs_background": "light"
     },
     "output_type": "display_data"
    },
    {
     "name": "stdout",
     "output_type": "stream",
     "text": [
      "working on batch: 3/150\n",
      "loading training set\n"
     ]
    },
    {
     "ename": "KeyboardInterrupt",
     "evalue": "",
     "output_type": "error",
     "traceback": [
      "\u001b[1;31m---------------------------------------------------------------------------\u001b[0m",
      "\u001b[1;31mKeyboardInterrupt\u001b[0m                         Traceback (most recent call last)",
      "\u001b[1;32m<ipython-input-5-d8772fc3a090>\u001b[0m in \u001b[0;36m<module>\u001b[1;34m\u001b[0m\n\u001b[0;32m     14\u001b[0m         \u001b[0my_train\u001b[0m\u001b[1;33m,\u001b[0m \u001b[0my_val\u001b[0m \u001b[1;33m=\u001b[0m \u001b[0my\u001b[0m\u001b[1;33m[\u001b[0m\u001b[0mtrain_index2\u001b[0m\u001b[1;33m]\u001b[0m\u001b[1;33m,\u001b[0m \u001b[0my\u001b[0m\u001b[1;33m[\u001b[0m\u001b[0mtest_index2\u001b[0m\u001b[1;33m]\u001b[0m\u001b[1;33m\u001b[0m\u001b[1;33m\u001b[0m\u001b[0m\n\u001b[0;32m     15\u001b[0m         \u001b[1;31m# Split is done, X=filename, y=target\u001b[0m\u001b[1;33m\u001b[0m\u001b[1;33m\u001b[0m\u001b[1;33m\u001b[0m\u001b[0m\n\u001b[1;32m---> 16\u001b[1;33m         \u001b[0mX_train\u001b[0m\u001b[1;33m,\u001b[0m \u001b[0my_train\u001b[0m \u001b[1;33m=\u001b[0m \u001b[0mtrain_val_load\u001b[0m\u001b[1;33m(\u001b[0m\u001b[0mX_train\u001b[0m\u001b[1;33m,\u001b[0m \u001b[0my_train\u001b[0m\u001b[1;33m,\u001b[0m \u001b[0mmapping\u001b[0m\u001b[1;33m,\u001b[0m \u001b[0mnum_classes\u001b[0m\u001b[1;33m,\u001b[0m \u001b[0mtrain_or_val\u001b[0m \u001b[1;33m=\u001b[0m \u001b[1;34m'train'\u001b[0m\u001b[1;33m)\u001b[0m\u001b[1;33m\u001b[0m\u001b[1;33m\u001b[0m\u001b[0m\n\u001b[0m\u001b[0;32m     17\u001b[0m         \u001b[0mX_val\u001b[0m\u001b[1;33m,\u001b[0m \u001b[0my_val\u001b[0m \u001b[1;33m=\u001b[0m \u001b[0mtrain_val_load\u001b[0m\u001b[1;33m(\u001b[0m\u001b[0mX_val\u001b[0m\u001b[1;33m,\u001b[0m \u001b[0my_val\u001b[0m\u001b[1;33m,\u001b[0m \u001b[0mmapping\u001b[0m\u001b[1;33m,\u001b[0m \u001b[0mnum_classes\u001b[0m\u001b[1;33m,\u001b[0m \u001b[0mtrain_or_val\u001b[0m \u001b[1;33m=\u001b[0m \u001b[1;34m'val'\u001b[0m\u001b[1;33m)\u001b[0m\u001b[1;33m\u001b[0m\u001b[1;33m\u001b[0m\u001b[0m\n\u001b[0;32m     18\u001b[0m \u001b[1;33m\u001b[0m\u001b[0m\n",
      "\u001b[1;32m~\\Documents\\SpeechRecognition\\sql_scripts.py\u001b[0m in \u001b[0;36mtrain_val_load\u001b[1;34m(X, y, mapping, num_classes, train_or_val)\u001b[0m\n\u001b[0;32m     42\u001b[0m         \u001b[1;31m# update code to `try` loading pickles\u001b[0m\u001b[1;33m\u001b[0m\u001b[1;33m\u001b[0m\u001b[1;33m\u001b[0m\u001b[0m\n\u001b[0;32m     43\u001b[0m         \u001b[1;31m# or preprocess sound clips and save as pickles\u001b[0m\u001b[1;33m\u001b[0m\u001b[1;33m\u001b[0m\u001b[1;33m\u001b[0m\u001b[0m\n\u001b[1;32m---> 44\u001b[1;33m         \u001b[0mredgram\u001b[0m \u001b[1;33m=\u001b[0m \u001b[0mload_waves\u001b[0m\u001b[1;33m(\u001b[0m\u001b[0mfpath\u001b[0m\u001b[1;33m)\u001b[0m\u001b[1;33m\u001b[0m\u001b[1;33m\u001b[0m\u001b[0m\n\u001b[0m\u001b[0;32m     45\u001b[0m         \u001b[1;32mif\u001b[0m \u001b[0mredgram\u001b[0m\u001b[1;33m.\u001b[0m\u001b[0mshape\u001b[0m\u001b[1;33m[\u001b[0m\u001b[1;36m0\u001b[0m\u001b[1;33m]\u001b[0m \u001b[1;33m!=\u001b[0m \u001b[1;36m14\u001b[0m\u001b[1;33m:\u001b[0m\u001b[1;33m\u001b[0m\u001b[1;33m\u001b[0m\u001b[0m\n\u001b[0;32m     46\u001b[0m             \u001b[0mprint\u001b[0m\u001b[1;33m(\u001b[0m\u001b[1;34m'\\tbad redgram shape'\u001b[0m\u001b[1;33m)\u001b[0m\u001b[1;33m\u001b[0m\u001b[1;33m\u001b[0m\u001b[0m\n",
      "\u001b[1;32m~\\Documents\\SpeechRecognition\\speech_dependencies.py\u001b[0m in \u001b[0;36mload_waves\u001b[1;34m(fpath)\u001b[0m\n\u001b[0;32m     49\u001b[0m \u001b[1;32mdef\u001b[0m \u001b[0mload_waves\u001b[0m\u001b[1;33m(\u001b[0m\u001b[0mfpath\u001b[0m\u001b[1;33m)\u001b[0m\u001b[1;33m:\u001b[0m\u001b[1;33m\u001b[0m\u001b[1;33m\u001b[0m\u001b[0m\n\u001b[0;32m     50\u001b[0m     \u001b[0mfpath\u001b[0m \u001b[1;33m=\u001b[0m \u001b[1;34m'train/audio/'\u001b[0m \u001b[1;33m+\u001b[0m \u001b[0mfpath\u001b[0m\u001b[1;33m\u001b[0m\u001b[1;33m\u001b[0m\u001b[0m\n\u001b[1;32m---> 51\u001b[1;33m     \u001b[0mnormgram\u001b[0m \u001b[1;33m=\u001b[0m \u001b[0mgraph_spectrogram\u001b[0m\u001b[1;33m(\u001b[0m\u001b[0mfpath\u001b[0m\u001b[1;33m)\u001b[0m\u001b[1;33m\u001b[0m\u001b[1;33m\u001b[0m\u001b[0m\n\u001b[0m\u001b[0;32m     52\u001b[0m     \u001b[0mredgram\u001b[0m \u001b[1;33m=\u001b[0m \u001b[0mblock_reduce\u001b[0m\u001b[1;33m(\u001b[0m\u001b[0mnormgram\u001b[0m\u001b[1;33m,\u001b[0m \u001b[0mblock_size\u001b[0m \u001b[1;33m=\u001b[0m \u001b[1;33m(\u001b[0m\u001b[1;36m3\u001b[0m\u001b[1;33m,\u001b[0m\u001b[1;36m3\u001b[0m\u001b[1;33m)\u001b[0m\u001b[1;33m,\u001b[0m \u001b[0mfunc\u001b[0m \u001b[1;33m=\u001b[0m \u001b[0mnp\u001b[0m\u001b[1;33m.\u001b[0m\u001b[0mmean\u001b[0m\u001b[1;33m)\u001b[0m\u001b[1;33m\u001b[0m\u001b[1;33m\u001b[0m\u001b[0m\n\u001b[0;32m     53\u001b[0m     \u001b[1;31m# looks like block_reduce here is gaussian blur w/out padding\u001b[0m\u001b[1;33m\u001b[0m\u001b[1;33m\u001b[0m\u001b[1;33m\u001b[0m\u001b[0m\n",
      "\u001b[1;32m~\\Documents\\SpeechRecognition\\speech_dependencies.py\u001b[0m in \u001b[0;36mgraph_spectrogram\u001b[1;34m(wav_file, nfft, noverlap)\u001b[0m\n\u001b[0;32m     28\u001b[0m                                     \u001b[0mcmap\u001b[0m\u001b[1;33m=\u001b[0m\u001b[1;34m\"gray\"\u001b[0m\u001b[1;33m,\u001b[0m\u001b[1;33m\u001b[0m\u001b[1;33m\u001b[0m\u001b[0m\n\u001b[0;32m     29\u001b[0m                                     \u001b[0mnoverlap\u001b[0m\u001b[1;33m=\u001b[0m\u001b[0mnoverlap\u001b[0m\u001b[1;33m,\u001b[0m\u001b[1;33m\u001b[0m\u001b[1;33m\u001b[0m\u001b[0m\n\u001b[1;32m---> 30\u001b[1;33m                                     NFFT=nfft)\n\u001b[0m\u001b[0;32m     31\u001b[0m \u001b[1;31m#     pxx, freqs, bins, im = ax.specgram(x=data, Fs=rate, mode=\"magnitude\", cmap=\"gray\", noverlap=noverlap, NFFT=nfft)\u001b[0m\u001b[1;33m\u001b[0m\u001b[1;33m\u001b[0m\u001b[1;33m\u001b[0m\u001b[0m\n\u001b[0;32m     32\u001b[0m     \u001b[0max\u001b[0m\u001b[1;33m.\u001b[0m\u001b[0maxis\u001b[0m\u001b[1;33m(\u001b[0m\u001b[1;34m'off'\u001b[0m\u001b[1;33m)\u001b[0m\u001b[1;33m\u001b[0m\u001b[1;33m\u001b[0m\u001b[0m\n",
      "\u001b[1;32mC:\\ProgramData\\Anaconda3\\lib\\site-packages\\matplotlib\\__init__.py\u001b[0m in \u001b[0;36minner\u001b[1;34m(ax, data, *args, **kwargs)\u001b[0m\n\u001b[0;32m   1436\u001b[0m     \u001b[1;32mdef\u001b[0m \u001b[0minner\u001b[0m\u001b[1;33m(\u001b[0m\u001b[0max\u001b[0m\u001b[1;33m,\u001b[0m \u001b[1;33m*\u001b[0m\u001b[0margs\u001b[0m\u001b[1;33m,\u001b[0m \u001b[0mdata\u001b[0m\u001b[1;33m=\u001b[0m\u001b[1;32mNone\u001b[0m\u001b[1;33m,\u001b[0m \u001b[1;33m**\u001b[0m\u001b[0mkwargs\u001b[0m\u001b[1;33m)\u001b[0m\u001b[1;33m:\u001b[0m\u001b[1;33m\u001b[0m\u001b[1;33m\u001b[0m\u001b[0m\n\u001b[0;32m   1437\u001b[0m         \u001b[1;32mif\u001b[0m \u001b[0mdata\u001b[0m \u001b[1;32mis\u001b[0m \u001b[1;32mNone\u001b[0m\u001b[1;33m:\u001b[0m\u001b[1;33m\u001b[0m\u001b[1;33m\u001b[0m\u001b[0m\n\u001b[1;32m-> 1438\u001b[1;33m             \u001b[1;32mreturn\u001b[0m \u001b[0mfunc\u001b[0m\u001b[1;33m(\u001b[0m\u001b[0max\u001b[0m\u001b[1;33m,\u001b[0m \u001b[1;33m*\u001b[0m\u001b[0mmap\u001b[0m\u001b[1;33m(\u001b[0m\u001b[0msanitize_sequence\u001b[0m\u001b[1;33m,\u001b[0m \u001b[0margs\u001b[0m\u001b[1;33m)\u001b[0m\u001b[1;33m,\u001b[0m \u001b[1;33m**\u001b[0m\u001b[0mkwargs\u001b[0m\u001b[1;33m)\u001b[0m\u001b[1;33m\u001b[0m\u001b[1;33m\u001b[0m\u001b[0m\n\u001b[0m\u001b[0;32m   1439\u001b[0m \u001b[1;33m\u001b[0m\u001b[0m\n\u001b[0;32m   1440\u001b[0m         \u001b[0mbound\u001b[0m \u001b[1;33m=\u001b[0m \u001b[0mnew_sig\u001b[0m\u001b[1;33m.\u001b[0m\u001b[0mbind\u001b[0m\u001b[1;33m(\u001b[0m\u001b[0max\u001b[0m\u001b[1;33m,\u001b[0m \u001b[1;33m*\u001b[0m\u001b[0margs\u001b[0m\u001b[1;33m,\u001b[0m \u001b[1;33m**\u001b[0m\u001b[0mkwargs\u001b[0m\u001b[1;33m)\u001b[0m\u001b[1;33m\u001b[0m\u001b[1;33m\u001b[0m\u001b[0m\n",
      "\u001b[1;32mC:\\ProgramData\\Anaconda3\\lib\\site-packages\\matplotlib\\axes\\_axes.py\u001b[0m in \u001b[0;36mspecgram\u001b[1;34m(self, x, NFFT, Fs, Fc, detrend, window, noverlap, cmap, xextent, pad_to, sides, scale_by_freq, mode, scale, vmin, vmax, **kwargs)\u001b[0m\n\u001b[0;32m   7550\u001b[0m                                        \u001b[0msides\u001b[0m\u001b[1;33m=\u001b[0m\u001b[0msides\u001b[0m\u001b[1;33m,\u001b[0m\u001b[1;33m\u001b[0m\u001b[1;33m\u001b[0m\u001b[0m\n\u001b[0;32m   7551\u001b[0m                                        \u001b[0mscale_by_freq\u001b[0m\u001b[1;33m=\u001b[0m\u001b[0mscale_by_freq\u001b[0m\u001b[1;33m,\u001b[0m\u001b[1;33m\u001b[0m\u001b[1;33m\u001b[0m\u001b[0m\n\u001b[1;32m-> 7552\u001b[1;33m                                        mode=mode)\n\u001b[0m\u001b[0;32m   7553\u001b[0m \u001b[1;33m\u001b[0m\u001b[0m\n\u001b[0;32m   7554\u001b[0m         \u001b[1;32mif\u001b[0m \u001b[0mscale\u001b[0m \u001b[1;33m==\u001b[0m \u001b[1;34m'linear'\u001b[0m\u001b[1;33m:\u001b[0m\u001b[1;33m\u001b[0m\u001b[1;33m\u001b[0m\u001b[0m\n",
      "\u001b[1;32mC:\\ProgramData\\Anaconda3\\lib\\site-packages\\matplotlib\\mlab.py\u001b[0m in \u001b[0;36mspecgram\u001b[1;34m(x, NFFT, Fs, detrend, window, noverlap, pad_to, sides, scale_by_freq, mode)\u001b[0m\n\u001b[0;32m    901\u001b[0m                                       \u001b[0msides\u001b[0m\u001b[1;33m=\u001b[0m\u001b[0msides\u001b[0m\u001b[1;33m,\u001b[0m\u001b[1;33m\u001b[0m\u001b[1;33m\u001b[0m\u001b[0m\n\u001b[0;32m    902\u001b[0m                                       \u001b[0mscale_by_freq\u001b[0m\u001b[1;33m=\u001b[0m\u001b[0mscale_by_freq\u001b[0m\u001b[1;33m,\u001b[0m\u001b[1;33m\u001b[0m\u001b[1;33m\u001b[0m\u001b[0m\n\u001b[1;32m--> 903\u001b[1;33m                                       mode=mode)\n\u001b[0m\u001b[0;32m    904\u001b[0m \u001b[1;33m\u001b[0m\u001b[0m\n\u001b[0;32m    905\u001b[0m     \u001b[1;32mif\u001b[0m \u001b[0mmode\u001b[0m \u001b[1;33m!=\u001b[0m \u001b[1;34m'complex'\u001b[0m\u001b[1;33m:\u001b[0m\u001b[1;33m\u001b[0m\u001b[1;33m\u001b[0m\u001b[0m\n",
      "\u001b[1;32mC:\\ProgramData\\Anaconda3\\lib\\site-packages\\matplotlib\\mlab.py\u001b[0m in \u001b[0;36m_spectral_helper\u001b[1;34m(x, y, NFFT, Fs, detrend_func, window, noverlap, pad_to, sides, scale_by_freq, mode)\u001b[0m\n\u001b[0;32m    536\u001b[0m         \u001b[1;31m# values. Perform the same scaling here.\u001b[0m\u001b[1;33m\u001b[0m\u001b[1;33m\u001b[0m\u001b[1;33m\u001b[0m\u001b[0m\n\u001b[0;32m    537\u001b[0m         \u001b[1;32mif\u001b[0m \u001b[0mscale_by_freq\u001b[0m\u001b[1;33m:\u001b[0m\u001b[1;33m\u001b[0m\u001b[1;33m\u001b[0m\u001b[0m\n\u001b[1;32m--> 538\u001b[1;33m             \u001b[0mresult\u001b[0m \u001b[1;33m/=\u001b[0m \u001b[0mFs\u001b[0m\u001b[1;33m\u001b[0m\u001b[1;33m\u001b[0m\u001b[0m\n\u001b[0m\u001b[0;32m    539\u001b[0m             \u001b[1;31m# Scale the spectrum by the norm of the window to compensate for\u001b[0m\u001b[1;33m\u001b[0m\u001b[1;33m\u001b[0m\u001b[1;33m\u001b[0m\u001b[0m\n\u001b[0;32m    540\u001b[0m             \u001b[1;31m# windowing loss; see Bendat & Piersol Sec 11.5.2.\u001b[0m\u001b[1;33m\u001b[0m\u001b[1;33m\u001b[0m\u001b[1;33m\u001b[0m\u001b[0m\n",
      "\u001b[1;31mKeyboardInterrupt\u001b[0m: "
     ]
    },
    {
     "data": {
      "image/png": "[encoded data removed]",
      "text/plain": [
       "<Figure size 60x40 with 1 Axes>"
      ]
     },
     "metadata": {
      "needs_background": "light"
     },
     "output_type": "display_data"
    }
   ],
   "source": [
    "batch_count = 1 # using a counter since enumerate doesn't work on skf.split\n",
    "total_splits = 150\n",
    "skf = StratifiedKFold(n_splits=total_splits, shuffle=True, random_state=42)\n",
    "for train_index, test_index in skf.split(X_master, y_master):\n",
    "#     if batch_count < 125:\n",
    "#         print(f'currently looking at batch {batch_count}, already trained up to batch 125. skipping...', end='\\r')\n",
    "#         batch_count += 1\n",
    "#         continue\n",
    "    print(f'working on batch: {batch_count}/{total_splits}')\n",
    "    rs = ShuffleSplit(n_splits=1, test_size=.25, random_state=42)\n",
    "    X, y = X_master[test_index], y_master[test_index]\n",
    "    for train_index2, test_index2 in rs.split(X):\n",
    "        X_train, X_val = X[train_index2], X[test_index2]\n",
    "        y_train, y_val = y[train_index2], y[test_index2]\n",
    "        # Split is done, X=filename, y=target\n",
    "        X_train, y_train = train_val_load(X_train, y_train, mapping, num_classes, train_or_val = 'train')\n",
    "        X_val, y_val = train_val_load(X_val, y_val, mapping, num_classes, train_or_val = 'val')\n",
    "        \n",
    "        ttv = []\n",
    "        x_sizes = []\n",
    "        y_sizes = []\n",
    "        \n",
    "        X_train, y_train = list(X_train), list(y_train)\n",
    "        for i, image in enumerate(X_train):\n",
    "            ttv.append('train')\n",
    "            x_sizes.append(image.shape[1])\n",
    "            y_sizes.append(image.shape[0])\n",
    "            X_train[i] = encode_array_for_sql(image)\n",
    "            y_train[i] = encode_array_for_sql(y_train[i])\n",
    "            \n",
    "        X_val, y_val = list(X_val), list(y_val)\n",
    "        for i, image in enumerate(X_val):\n",
    "            ttv.append('val')\n",
    "            x_sizes.append(image.shape[1])\n",
    "            y_sizes.append(image.shape[0])\n",
    "            X_val[i] = encode_array_for_sql(image)\n",
    "            y_val[i] = encode_array_for_sql(y_val[i])\n",
    "            \n",
    "        temp_df = pd.DataFrame({'t_t_v':ttv,'words':y_train+y_val,'x_size':x_sizes,'y_size':y_sizes,'images':X_train+X_val})\n",
    "#         temp_df.to_sql('specgrams', conn, if_exists='replace', index=False)\n",
    "        temp_df.to_sql('specgrams', conn, if_exists='append', index=False)\n",
    "        \n",
    "        X_train, y_train, X_val, y_val = [],[],[],[]\n",
    "    batch_count += 1"
   ]
  },
  {
   "cell_type": "code",
   "execution_count": null,
   "metadata": {},
   "outputs": [],
   "source": []
  }
 ],
 "metadata": {
  "kernelspec": {
   "display_name": "Python 3",
   "language": "python",
   "name": "python3"
  },
  "language_info": {
   "codemirror_mode": {
    "name": "ipython",
    "version": 3
   },
   "file_extension": ".py",
   "mimetype": "text/x-python",
   "name": "python",
   "nbconvert_exporter": "python",
   "pygments_lexer": "ipython3",
   "version": "3.7.9"
  }
 },
 "nbformat": 4,
 "nbformat_minor": 4
}
