{
 "cells": [
  {
   "cell_type": "markdown",
   "metadata": {},
   "source": [
    "# Audio Recognition"
   ]
  },
  {
   "cell_type": "code",
   "execution_count": 3,
   "metadata": {},
   "outputs": [],
   "source": [
    "#import pyaudio\n",
    "import matplotlib.pyplot as plt\n",
    "from scipy import signal\n",
    "from scipy.io import wavfile\n",
    "import os\n",
    "import numpy as np\n",
    "import pandas as pd\n",
    "import random\n",
    "from skimage.measure import block_reduce\n",
    "from tqdm.notebook import tqdm\n",
    "from sklearn.model_selection import StratifiedKFold, ShuffleSplit\n",
    "\n",
    "#To find the duration of wave file in seconds\n",
    "import wave\n",
    "import contextlib\n",
    "import librosa\n",
    "import soundfile as sf\n",
    "\n",
    "#Keras imports\n",
    "import keras\n",
    "from keras.layers import Dense, Conv2D, Dropout, Flatten, MaxPooling2D\n",
    "from keras.models import Sequential, model_from_json\n",
    "\n",
    "import time\n",
    "import datetime"
   ]
  },
  {
   "cell_type": "code",
   "execution_count": 4,
   "metadata": {},
   "outputs": [],
   "source": [
    "def save_model_to_disk(model):\n",
    "    \"\"\"\n",
    "    Converts the model to a json and saves as an h5 file\n",
    "    \"\"\"\n",
    "    model_json = model.to_json()\n",
    "    with open(\"model.json\", \"w\") as json_file:\n",
    "        json_file.write(model_json)\n",
    "    # serialize weights to HDF5\n",
    "    model.save_weights(\"model.h5\")\n",
    "    print(\"Saved model to disk\")\n",
    "\n",
    "\n",
    "def rgb2gray(rgb):\n",
    "    \"\"\"\n",
    "    Convert color image to grayscale\n",
    "    \"\"\"\n",
    "    return np.dot(rgb[...,:3], [0.299, 0.587, 0.114])\n",
    "\n",
    "def normalize_gray(array):\n",
    "    \"\"\"\n",
    "    Normalize Gray colored image\n",
    "    \"\"\"\n",
    "    return (array - array.min())/(array.max() - array.min())\n",
    "\n",
    "def findDuration(fname):\n",
    "    with contextlib.closing(wave.open(fname,'r')) as f:\n",
    "        frames = f.getnframes()\n",
    "        rate = f.getframerate()\n",
    "        sw   = f.getsampwidth()\n",
    "        chan = f.getnchannels()\n",
    "        duration = frames / float(rate)\n",
    "        #print(\"File:\", fname, \"--->\",frames, rate, sw, chan)\n",
    "        return duration\n",
    "\n",
    "# def findDuration(fname):\n",
    "#     \"\"\"\n",
    "#     Function to find the duration of the wave file in seconds\n",
    "#     \"\"\"\n",
    "\n",
    "#     sample_rate,samples = wavfile.read(fname)\n",
    "#     frequencies, times, spectogram = signal.spectrogram(samples, sample_rate)\n",
    "#     sf.write('tmp.wav', t, 16000)\n",
    "#     wave.open('tmp.wav','r')\n",
    "#     frames = f.getnframes()\n",
    "#     rate = f.getframerate()\n",
    "#     sw   = f.getsampwidth()\n",
    "#     chan = f.getnchannels()\n",
    "#     duration = frames / float(rate)\n",
    "#     return duration\n",
    "        \n",
    "def graph_spectrogram(wav_file, nfft=512, noverlap=256):\n",
    "    \"\"\"\n",
    "    Converts the wav file to a spectrogram for the NN to interpret\n",
    "    \"\"\"\n",
    "    findDuration(wav_file)\n",
    "    rate, data = wavfile.read(wav_file)\n",
    "    #print(\"\")\n",
    "    fig,ax = plt.subplots(1)\n",
    "    fig.subplots_adjust(left=0,right=1,bottom=0,top=1)\n",
    "    ax.axis('off')\n",
    "    pxx, freqs, bins, im = ax.specgram(x=data, Fs=rate, noverlap=noverlap, NFFT=nfft)\n",
    "    ax.axis('off')\n",
    "    plt.rcParams['figure.figsize'] = [0.75,0.5]\n",
    "    #fig.savefig('sp_xyz.png', dpi=300, frameon='false')\n",
    "    fig.canvas.draw()\n",
    "    size_inches  = fig.get_size_inches()\n",
    "    dpi          = fig.get_dpi()\n",
    "    width, height = fig.get_size_inches() * fig.get_dpi()\n",
    "\n",
    "    #print(size_inches, dpi, width, height)\n",
    "    mplimage = np.frombuffer(fig.canvas.tostring_rgb(), dtype=np.uint8)\n",
    "    #print(\"MPLImage Shape: \", np.shape(mplimage))\n",
    "    imarray = np.reshape(mplimage, (int(height), int(width), 3))\n",
    "    plt.close(fig)\n",
    "    return imarray"
   ]
  },
  {
   "cell_type": "markdown",
   "metadata": {},
   "source": [
    "## Creating a Directory for the Files"
   ]
  },
  {
   "cell_type": "code",
   "execution_count": 5,
   "metadata": {},
   "outputs": [],
   "source": [
    "# os.environ['KMP_DUPLICATE_LIB_OK']  = 'True'\n",
    "\n",
    "folder_names = [f for f in os.listdir('train/audio') if not 'background' in f]\n",
    "folder_names.sort()\n",
    "\n",
    "imheight = int(17)\n",
    "imwidth = int(25)\n",
    "k = int(0)"
   ]
  },
  {
   "cell_type": "code",
   "execution_count": 6,
   "metadata": {},
   "outputs": [],
   "source": [
    "file = open(\"train/testing_list.txt\", \"r\")\n",
    "testing_list = file.read().split('\\n')\n",
    "file.close()\n",
    "file = open(\"train/validation_list.txt\", \"r\")\n",
    "validation_list = file.read().split('\\n')"
   ]
  },
  {
   "cell_type": "code",
   "execution_count": 7,
   "metadata": {},
   "outputs": [
    {
     "data": {
      "text/html": [
       "<div>\n",
       "<style scoped>\n",
       "    .dataframe tbody tr th:only-of-type {\n",
       "        vertical-align: middle;\n",
       "    }\n",
       "\n",
       "    .dataframe tbody tr th {\n",
       "        vertical-align: top;\n",
       "    }\n",
       "\n",
       "    .dataframe thead th {\n",
       "        text-align: right;\n",
       "    }\n",
       "</style>\n",
       "<table border=\"1\" class=\"dataframe\">\n",
       "  <thead>\n",
       "    <tr style=\"text-align: right;\">\n",
       "      <th></th>\n",
       "      <th>filename</th>\n",
       "      <th>target</th>\n",
       "      <th>train_val_test</th>\n",
       "    </tr>\n",
       "  </thead>\n",
       "  <tbody>\n",
       "    <tr>\n",
       "      <th>0</th>\n",
       "      <td>bed/00176480_nohash_0.wav</td>\n",
       "      <td>bed</td>\n",
       "      <td>train</td>\n",
       "    </tr>\n",
       "    <tr>\n",
       "      <th>1</th>\n",
       "      <td>bed/004ae714_nohash_0.wav</td>\n",
       "      <td>bed</td>\n",
       "      <td>train</td>\n",
       "    </tr>\n",
       "    <tr>\n",
       "      <th>2</th>\n",
       "      <td>bed/004ae714_nohash_1.wav</td>\n",
       "      <td>bed</td>\n",
       "      <td>train</td>\n",
       "    </tr>\n",
       "    <tr>\n",
       "      <th>3</th>\n",
       "      <td>bed/00f0204f_nohash_0.wav</td>\n",
       "      <td>bed</td>\n",
       "      <td>train</td>\n",
       "    </tr>\n",
       "    <tr>\n",
       "      <th>4</th>\n",
       "      <td>bed/00f0204f_nohash_1.wav</td>\n",
       "      <td>bed</td>\n",
       "      <td>train</td>\n",
       "    </tr>\n",
       "  </tbody>\n",
       "</table>\n",
       "</div>"
      ],
      "text/plain": [
       "                    filename target train_val_test\n",
       "0  bed/00176480_nohash_0.wav    bed          train\n",
       "1  bed/004ae714_nohash_0.wav    bed          train\n",
       "2  bed/004ae714_nohash_1.wav    bed          train\n",
       "3  bed/00f0204f_nohash_0.wav    bed          train\n",
       "4  bed/00f0204f_nohash_1.wav    bed          train"
      ]
     },
     "execution_count": 7,
     "metadata": {},
     "output_type": "execute_result"
    }
   ],
   "source": [
    "master_file_list = []\n",
    "master_target_list = []\n",
    "train_val_test_list = []\n",
    "for phrase in folder_names:\n",
    "    file_list = [phrase + '/' + f for f in os.listdir('train/audio/' + phrase) if '.wav' in f]\n",
    "    for file in file_list:\n",
    "        if file in testing_list:\n",
    "            train_val_test_list.append('test')\n",
    "        elif file in validation_list:\n",
    "            train_val_test_list.append('val')\n",
    "        else:\n",
    "            train_val_test_list.append('train')\n",
    "        master_target_list.append(phrase)\n",
    "        master_file_list.append(file)\n",
    "data = np.transpose(np.array([master_file_list, master_target_list, train_val_test_list]))\n",
    "master_df = pd.DataFrame(data = data, columns=['filename','target','train_val_test'])\n",
    "master_df.head()"
   ]
  },
  {
   "cell_type": "markdown",
   "metadata": {},
   "source": [
    "## Creating the Keras Model"
   ]
  },
  {
   "cell_type": "code",
   "execution_count": 8,
   "metadata": {},
   "outputs": [],
   "source": [
    "def new_keras():\n",
    "    input_shape = (imheight, imwidth, 1)\n",
    "    batch_size = 4\n",
    "    epochs = 1\n",
    "\n",
    "    model = Sequential()\n",
    "    model.add(Conv2D(32, kernel_size=(3, 3), activation='relu', input_shape=input_shape))\n",
    "    model.add(Conv2D(64, kernel_size=(3, 3), activation='relu'))\n",
    "    model.add(MaxPooling2D(pool_size=(2, 2)))\n",
    "    model.add(Dropout(0.25))\n",
    "    model.add(Flatten())\n",
    "    model.add(Dense(128, activation='relu'))\n",
    "    model.add(Dropout(0.5))\n",
    "    model.add(Dense(num_classes, activation='softmax'))\n",
    "\n",
    "    opt = keras.optimizers.Adam(learning_rate=0.01)\n",
    "    model.compile(loss=keras.losses.categorical_crossentropy, optimizer=opt, metrics=['accuracy'])\n",
    "    print(model.summary())\n",
    "    return model"
   ]
  },
  {
   "cell_type": "code",
   "execution_count": 30,
   "metadata": {},
   "outputs": [],
   "source": [
    "def load_waves(fpath):\n",
    "    fpath = 'train/audio/' + fpath\n",
    "    spectrogram = graph_spectrogram(fpath)\n",
    "    graygram = rgb2gray(spectrogram)\n",
    "#     normgram = normalize_gray(graygram)\n",
    "#     norm_shape = normgram.shape\n",
    "#     redgram = block_reduce(normgram, block_size = (3,3), func = np.mean)\n",
    "#     return redgram\n",
    "    return(graygram)"
   ]
  },
  {
   "cell_type": "code",
   "execution_count": 10,
   "metadata": {},
   "outputs": [],
   "source": [
    "def plot_results(history):\n",
    "    # summarize history for accuracy\n",
    "    plt.plot(history.history['accuracy'])\n",
    "    plt.plot(history.history['val_accuracy'])\n",
    "    plt.title('model accuracy')\n",
    "    plt.ylabel('accuracy')\n",
    "    plt.xlabel('epoch')\n",
    "    plt.legend(['train', 'test'], loc='upper left')\n",
    "    plt.show()\n",
    "    # summarize history for loss\n",
    "    plt.plot(history.history['loss'])\n",
    "    plt.plot(history.history['val_loss'])\n",
    "    plt.title('model loss')\n",
    "    plt.ylabel('loss')\n",
    "    plt.xlabel('epoch')\n",
    "    plt.legend(['train', 'test'], loc='upper left')\n",
    "    plt.show()"
   ]
  },
  {
   "cell_type": "code",
   "execution_count": 43,
   "metadata": {},
   "outputs": [
    {
     "name": "stdout",
     "output_type": "stream",
     "text": [
      "working on batch: 1/50\n",
      "loading training images\n"
     ]
    },
    {
     "data": {
      "application/vnd.jupyter.widget-view+json": {
       "model_id": "67b5811c1b3d4777bdd0eef45b923f2d",
       "version_major": 2,
       "version_minor": 0
      },
      "text/plain": [
       "HBox(children=(FloatProgress(value=0.0, max=868.0), HTML(value='')))"
      ]
     },
     "metadata": {},
     "output_type": "display_data"
    },
    {
     "name": "stderr",
     "output_type": "stream",
     "text": [
      "C:\\ProgramData\\Anaconda3\\lib\\site-packages\\matplotlib\\axes\\_axes.py:7544: RuntimeWarning: divide by zero encountered in log10\n",
      "  Z = 10. * np.log10(spec)\n"
     ]
    },
    {
     "name": "stdout",
     "output_type": "stream",
     "text": [
      "\n",
      "loading validation images\n"
     ]
    },
    {
     "data": {
      "application/vnd.jupyter.widget-view+json": {
       "model_id": "2bc548b5b102445493f696f0bc400c01",
       "version_major": 2,
       "version_minor": 0
      },
      "text/plain": [
       "HBox(children=(FloatProgress(value=0.0, max=290.0), HTML(value='')))"
      ]
     },
     "metadata": {},
     "output_type": "display_data"
    },
    {
     "name": "stdout",
     "output_type": "stream",
     "text": [
      "\n"
     ]
    },
    {
     "ename": "ValueError",
     "evalue": "invalid literal for int() with base 10: 'house'",
     "output_type": "error",
     "traceback": [
      "\u001b[1;31m---------------------------------------------------------------------------\u001b[0m",
      "\u001b[1;31mValueError\u001b[0m                                Traceback (most recent call last)",
      "\u001b[1;32m<ipython-input-43-9e3f2535f9bd>\u001b[0m in \u001b[0;36m<module>\u001b[1;34m\u001b[0m\n\u001b[0;32m     40\u001b[0m                                             \u001b[0mtrain_sound_clips\u001b[0m\u001b[1;33m.\u001b[0m\u001b[0mshape\u001b[0m\u001b[1;33m[\u001b[0m\u001b[1;36m1\u001b[0m\u001b[1;33m]\u001b[0m\u001b[1;33m,\u001b[0m\u001b[1;33m\u001b[0m\u001b[1;33m\u001b[0m\u001b[0m\n\u001b[0;32m     41\u001b[0m                                             train_sound_clips.shape[2], 1)\n\u001b[1;32m---> 42\u001b[1;33m         \u001b[0my_train\u001b[0m \u001b[1;33m=\u001b[0m \u001b[0mkeras\u001b[0m\u001b[1;33m.\u001b[0m\u001b[0mutils\u001b[0m\u001b[1;33m.\u001b[0m\u001b[0mto_categorical\u001b[0m\u001b[1;33m(\u001b[0m\u001b[0my_train\u001b[0m\u001b[1;33m,\u001b[0m \u001b[0mnum_classes\u001b[0m\u001b[1;33m)\u001b[0m\u001b[1;33m\u001b[0m\u001b[1;33m\u001b[0m\u001b[0m\n\u001b[0m\u001b[0;32m     43\u001b[0m         \u001b[1;31m# x_val = x_train.reshape(x_val.shape[0], imheight, imwidth, 1)\u001b[0m\u001b[1;33m\u001b[0m\u001b[1;33m\u001b[0m\u001b[1;33m\u001b[0m\u001b[0m\n\u001b[0;32m     44\u001b[0m         x_val = val_sound_clips.reshape(val_sound_clips.shape[0],\n",
      "\u001b[1;32mC:\\ProgramData\\Anaconda3\\lib\\site-packages\\tensorflow\\python\\keras\\utils\\np_utils.py\u001b[0m in \u001b[0;36mto_categorical\u001b[1;34m(y, num_classes, dtype)\u001b[0m\n\u001b[0;32m     67\u001b[0m \u001b[1;33m\u001b[0m\u001b[0m\n\u001b[0;32m     68\u001b[0m   \"\"\"\n\u001b[1;32m---> 69\u001b[1;33m   \u001b[0my\u001b[0m \u001b[1;33m=\u001b[0m \u001b[0mnp\u001b[0m\u001b[1;33m.\u001b[0m\u001b[0marray\u001b[0m\u001b[1;33m(\u001b[0m\u001b[0my\u001b[0m\u001b[1;33m,\u001b[0m \u001b[0mdtype\u001b[0m\u001b[1;33m=\u001b[0m\u001b[1;34m'int'\u001b[0m\u001b[1;33m)\u001b[0m\u001b[1;33m\u001b[0m\u001b[1;33m\u001b[0m\u001b[0m\n\u001b[0m\u001b[0;32m     70\u001b[0m   \u001b[0minput_shape\u001b[0m \u001b[1;33m=\u001b[0m \u001b[0my\u001b[0m\u001b[1;33m.\u001b[0m\u001b[0mshape\u001b[0m\u001b[1;33m\u001b[0m\u001b[1;33m\u001b[0m\u001b[0m\n\u001b[0;32m     71\u001b[0m   \u001b[1;32mif\u001b[0m \u001b[0minput_shape\u001b[0m \u001b[1;32mand\u001b[0m \u001b[0minput_shape\u001b[0m\u001b[1;33m[\u001b[0m\u001b[1;33m-\u001b[0m\u001b[1;36m1\u001b[0m\u001b[1;33m]\u001b[0m \u001b[1;33m==\u001b[0m \u001b[1;36m1\u001b[0m \u001b[1;32mand\u001b[0m \u001b[0mlen\u001b[0m\u001b[1;33m(\u001b[0m\u001b[0minput_shape\u001b[0m\u001b[1;33m)\u001b[0m \u001b[1;33m>\u001b[0m \u001b[1;36m1\u001b[0m\u001b[1;33m:\u001b[0m\u001b[1;33m\u001b[0m\u001b[1;33m\u001b[0m\u001b[0m\n",
      "\u001b[1;31mValueError\u001b[0m: invalid literal for int() with base 10: 'house'"
     ]
    }
   ],
   "source": [
    "num_classes = len(master_df['target'].unique().tolist())\n",
    "#SKF is just being used to batch the data into memory, not do any sort of k-fold training process\n",
    "total_batch_count = 50\n",
    "skf = StratifiedKFold(n_splits=total_batch_count, shuffle=True, random_state=42)\n",
    "# X = master_df['filename'][(master_df['train_val_test'] == 'train') or (master_df['train_val_test'] =='val')]\n",
    "# y = master_df['target'][(master_df['train_val_test'] == 'train') or (master_df['train_val_test'] == 'val')]\n",
    "X = master_df['filename'][[(val in ['train','val']) for val in master_df['train_val_test']]]\n",
    "y = master_df['target'][[(val in ['train','val']) for val in master_df['train_val_test']]]\n",
    "\n",
    "batch_count = 0\n",
    "for train_index, test_index in skf.split(X, y):\n",
    "    batch_count += 1\n",
    "    print(f'working on batch: {batch_count}/{total_batch_count}')\n",
    "    rs = ShuffleSplit(n_splits=2, test_size=.25, random_state=42)\n",
    "    X, y = np.array(X), np.array(y)\n",
    "    X, y = X[test_index], y[test_index]\n",
    "    for train_index2, test_index2 in rs.split(X): #should only run once\n",
    "        X_train, X_val = X[train_index2], X[test_index2]\n",
    "        y_train, y_val = y[train_index2], y[test_index2]\n",
    "        # Split is done, X=filename, y=target\n",
    "\n",
    "        train_sound_clips = []\n",
    "        val_sound_clips = []\n",
    "        \n",
    "        print(f'loading training images')\n",
    "        for fpath in tqdm(X_train):\n",
    "            redgram = load_waves(fpath)\n",
    "            #print(np.shape(redgram))\n",
    "            train_sound_clips.append(redgram)\n",
    "        train_sound_clips = np.array(train_sound_clips)\n",
    "        # print(f'train sound clips shape:{train_sound_clips.shape}')\n",
    "        print(f'loading validation images')\n",
    "        for fpath in tqdm(X_val):\n",
    "            redgram = np.array(load_waves(fpath))\n",
    "            val_sound_clips.append(redgram)\n",
    "        val_sound_clips = np.array(val_sound_clips)\n",
    "\n",
    "        # x_train = x_train.reshape(x_train.shape[0], imheight, imwidth, 1)\n",
    "        x_train = train_sound_clips.reshape(train_sound_clips.shape[0],\n",
    "                                            train_sound_clips.shape[1], \n",
    "                                            train_sound_clips.shape[2], 1)\n",
    "        y_train = keras.utils.to_categorical(y_train, num_classes)\n",
    "        # x_val = x_train.reshape(x_val.shape[0], imheight, imwidth, 1)\n",
    "        x_val = val_sound_clips.reshape(val_sound_clips.shape[0],\n",
    "                                        val_sound_clips.shape[1],\n",
    "                                        val_sound_clips.shape[2], 1)\n",
    "        y_val = keras.utils.to_categorical(y_val, num_classes)\n",
    "\n",
    "        try:\n",
    "            loaded_model = tf.keras.models.load_model('./MyModel_tf')\n",
    "            history = loaded_model.fit(x_train, y_train, batch_size=4, epochs=10, verbose=1, validation_data=(x_val, y_val))\n",
    "            plot_results(history)\n",
    "            loaded_model.save('./MyModel_tf',save_format='tf')\n",
    "        except:\n",
    "            print(\"Starting with a fresh model\")\n",
    "            model = new_keras()\n",
    "            model.fit(x_train, y_train, batch_size=4, epochs=10, verbose=1, validation_data=(x_val, y_val))\n",
    "            plot_results(history)\n",
    "            model.save('./MyModel_tf',save_format='tf')\n",
    "            model=[]\n",
    "\n",
    "        print(f'done with batch:{batch_count}/{total_batch_count}')\n",
    "\n"
   ]
  },
  {
   "cell_type": "code",
   "execution_count": null,
   "metadata": {},
   "outputs": [],
   "source": []
  },
  {
   "cell_type": "code",
   "execution_count": 14,
   "metadata": {},
   "outputs": [
    {
     "name": "stderr",
     "output_type": "stream",
     "text": [
      "C:\\ProgramData\\Anaconda3\\lib\\site-packages\\matplotlib\\axes\\_axes.py:7544: RuntimeWarning: divide by zero encountered in log10\n",
      "  Z = 10. * np.log10(spec)\n",
      "C:\\ProgramData\\Anaconda3\\lib\\site-packages\\matplotlib\\image.py:446: UserWarning: Warning: converting a masked element to nan.\n",
      "  dv = np.float64(self.norm.vmax) - np.float64(self.norm.vmin)\n",
      "C:\\ProgramData\\Anaconda3\\lib\\site-packages\\matplotlib\\image.py:453: UserWarning: Warning: converting a masked element to nan.\n",
      "  a_min = np.float64(newmin)\n",
      "C:\\ProgramData\\Anaconda3\\lib\\site-packages\\matplotlib\\image.py:458: UserWarning: Warning: converting a masked element to nan.\n",
      "  a_max = np.float64(newmax)\n",
      "C:\\ProgramData\\Anaconda3\\lib\\site-packages\\matplotlib\\image.py:478: UserWarning: Warning: converting a masked element to nan.\n",
      "  dtype=scaled_dtype)\n",
      "C:\\ProgramData\\Anaconda3\\lib\\site-packages\\ipykernel_launcher.py:23: RuntimeWarning: invalid value encountered in true_divide\n"
     ]
    },
    {
     "ename": "KeyboardInterrupt",
     "evalue": "",
     "output_type": "error",
     "traceback": [
      "\u001b[1;31m---------------------------------------------------------------------------\u001b[0m",
      "\u001b[1;31mKeyboardInterrupt\u001b[0m                         Traceback (most recent call last)",
      "\u001b[1;32m<ipython-input-14-1dd174e081bc>\u001b[0m in \u001b[0;36m<module>\u001b[1;34m\u001b[0m\n\u001b[0;32m      3\u001b[0m \u001b[1;32mfor\u001b[0m \u001b[0mindex\u001b[0m\u001b[1;33m,\u001b[0m \u001b[0mtrain_entry\u001b[0m \u001b[1;32min\u001b[0m \u001b[0mtraining_df\u001b[0m\u001b[1;33m.\u001b[0m\u001b[0miterrows\u001b[0m\u001b[1;33m(\u001b[0m\u001b[1;33m)\u001b[0m\u001b[1;33m:\u001b[0m\u001b[1;33m\u001b[0m\u001b[1;33m\u001b[0m\u001b[0m\n\u001b[0;32m      4\u001b[0m     \u001b[0mfpath\u001b[0m \u001b[1;33m=\u001b[0m \u001b[1;34m'train/audio/'\u001b[0m \u001b[1;33m+\u001b[0m \u001b[0mtrain_entry\u001b[0m\u001b[1;33m[\u001b[0m\u001b[1;34m'filename'\u001b[0m\u001b[1;33m]\u001b[0m\u001b[1;33m\u001b[0m\u001b[1;33m\u001b[0m\u001b[0m\n\u001b[1;32m----> 5\u001b[1;33m     \u001b[0mspectrogram\u001b[0m \u001b[1;33m=\u001b[0m \u001b[0mgraph_spectrogram\u001b[0m\u001b[1;33m(\u001b[0m\u001b[0mfpath\u001b[0m\u001b[1;33m)\u001b[0m\u001b[1;33m\u001b[0m\u001b[1;33m\u001b[0m\u001b[0m\n\u001b[0m\u001b[0;32m      6\u001b[0m     \u001b[0mgraygram\u001b[0m \u001b[1;33m=\u001b[0m \u001b[0mrgb2gray\u001b[0m\u001b[1;33m(\u001b[0m\u001b[0mspectrogram\u001b[0m\u001b[1;33m)\u001b[0m\u001b[1;33m\u001b[0m\u001b[1;33m\u001b[0m\u001b[0m\n\u001b[0;32m      7\u001b[0m     \u001b[0mnormgram\u001b[0m \u001b[1;33m=\u001b[0m \u001b[0mnormalize_gray\u001b[0m\u001b[1;33m(\u001b[0m\u001b[0mgraygram\u001b[0m\u001b[1;33m)\u001b[0m\u001b[1;33m\u001b[0m\u001b[1;33m\u001b[0m\u001b[0m\n",
      "\u001b[1;32m<ipython-input-11-cee44a38e7ba>\u001b[0m in \u001b[0;36mgraph_spectrogram\u001b[1;34m(wav_file, nfft, noverlap)\u001b[0m\n\u001b[0;32m     53\u001b[0m     \u001b[0mConverts\u001b[0m \u001b[0mthe\u001b[0m \u001b[0mwav\u001b[0m \u001b[0mfile\u001b[0m \u001b[0mto\u001b[0m \u001b[0ma\u001b[0m \u001b[0mspectrogram\u001b[0m \u001b[1;32mfor\u001b[0m \u001b[0mthe\u001b[0m \u001b[0mNN\u001b[0m \u001b[0mto\u001b[0m \u001b[0minterpret\u001b[0m\u001b[1;33m\u001b[0m\u001b[1;33m\u001b[0m\u001b[0m\n\u001b[0;32m     54\u001b[0m     \"\"\"\n\u001b[1;32m---> 55\u001b[1;33m     \u001b[0mfindDuration\u001b[0m\u001b[1;33m(\u001b[0m\u001b[0mwav_file\u001b[0m\u001b[1;33m)\u001b[0m\u001b[1;33m\u001b[0m\u001b[1;33m\u001b[0m\u001b[0m\n\u001b[0m\u001b[0;32m     56\u001b[0m     \u001b[0mrate\u001b[0m\u001b[1;33m,\u001b[0m \u001b[0mdata\u001b[0m \u001b[1;33m=\u001b[0m \u001b[0mwavfile\u001b[0m\u001b[1;33m.\u001b[0m\u001b[0mread\u001b[0m\u001b[1;33m(\u001b[0m\u001b[0mwav_file\u001b[0m\u001b[1;33m)\u001b[0m\u001b[1;33m\u001b[0m\u001b[1;33m\u001b[0m\u001b[0m\n\u001b[0;32m     57\u001b[0m     \u001b[1;31m#print(\"\")\u001b[0m\u001b[1;33m\u001b[0m\u001b[1;33m\u001b[0m\u001b[1;33m\u001b[0m\u001b[0m\n",
      "\u001b[1;32m<ipython-input-11-cee44a38e7ba>\u001b[0m in \u001b[0;36mfindDuration\u001b[1;34m(fname)\u001b[0m\n\u001b[0;32m     24\u001b[0m \u001b[1;33m\u001b[0m\u001b[0m\n\u001b[0;32m     25\u001b[0m \u001b[1;32mdef\u001b[0m \u001b[0mfindDuration\u001b[0m\u001b[1;33m(\u001b[0m\u001b[0mfname\u001b[0m\u001b[1;33m)\u001b[0m\u001b[1;33m:\u001b[0m\u001b[1;33m\u001b[0m\u001b[1;33m\u001b[0m\u001b[0m\n\u001b[1;32m---> 26\u001b[1;33m     \u001b[1;32mwith\u001b[0m \u001b[0mcontextlib\u001b[0m\u001b[1;33m.\u001b[0m\u001b[0mclosing\u001b[0m\u001b[1;33m(\u001b[0m\u001b[0mwave\u001b[0m\u001b[1;33m.\u001b[0m\u001b[0mopen\u001b[0m\u001b[1;33m(\u001b[0m\u001b[0mfname\u001b[0m\u001b[1;33m,\u001b[0m\u001b[1;34m'r'\u001b[0m\u001b[1;33m)\u001b[0m\u001b[1;33m)\u001b[0m \u001b[1;32mas\u001b[0m \u001b[0mf\u001b[0m\u001b[1;33m:\u001b[0m\u001b[1;33m\u001b[0m\u001b[1;33m\u001b[0m\u001b[0m\n\u001b[0m\u001b[0;32m     27\u001b[0m         \u001b[0mframes\u001b[0m \u001b[1;33m=\u001b[0m \u001b[0mf\u001b[0m\u001b[1;33m.\u001b[0m\u001b[0mgetnframes\u001b[0m\u001b[1;33m(\u001b[0m\u001b[1;33m)\u001b[0m\u001b[1;33m\u001b[0m\u001b[1;33m\u001b[0m\u001b[0m\n\u001b[0;32m     28\u001b[0m         \u001b[0mrate\u001b[0m \u001b[1;33m=\u001b[0m \u001b[0mf\u001b[0m\u001b[1;33m.\u001b[0m\u001b[0mgetframerate\u001b[0m\u001b[1;33m(\u001b[0m\u001b[1;33m)\u001b[0m\u001b[1;33m\u001b[0m\u001b[1;33m\u001b[0m\u001b[0m\n",
      "\u001b[1;32mC:\\ProgramData\\Anaconda3\\lib\\wave.py\u001b[0m in \u001b[0;36mopen\u001b[1;34m(f, mode)\u001b[0m\n\u001b[0;32m    508\u001b[0m             \u001b[0mmode\u001b[0m \u001b[1;33m=\u001b[0m \u001b[1;34m'rb'\u001b[0m\u001b[1;33m\u001b[0m\u001b[1;33m\u001b[0m\u001b[0m\n\u001b[0;32m    509\u001b[0m     \u001b[1;32mif\u001b[0m \u001b[0mmode\u001b[0m \u001b[1;32min\u001b[0m \u001b[1;33m(\u001b[0m\u001b[1;34m'r'\u001b[0m\u001b[1;33m,\u001b[0m \u001b[1;34m'rb'\u001b[0m\u001b[1;33m)\u001b[0m\u001b[1;33m:\u001b[0m\u001b[1;33m\u001b[0m\u001b[1;33m\u001b[0m\u001b[0m\n\u001b[1;32m--> 510\u001b[1;33m         \u001b[1;32mreturn\u001b[0m \u001b[0mWave_read\u001b[0m\u001b[1;33m(\u001b[0m\u001b[0mf\u001b[0m\u001b[1;33m)\u001b[0m\u001b[1;33m\u001b[0m\u001b[1;33m\u001b[0m\u001b[0m\n\u001b[0m\u001b[0;32m    511\u001b[0m     \u001b[1;32melif\u001b[0m \u001b[0mmode\u001b[0m \u001b[1;32min\u001b[0m \u001b[1;33m(\u001b[0m\u001b[1;34m'w'\u001b[0m\u001b[1;33m,\u001b[0m \u001b[1;34m'wb'\u001b[0m\u001b[1;33m)\u001b[0m\u001b[1;33m:\u001b[0m\u001b[1;33m\u001b[0m\u001b[1;33m\u001b[0m\u001b[0m\n\u001b[0;32m    512\u001b[0m         \u001b[1;32mreturn\u001b[0m \u001b[0mWave_write\u001b[0m\u001b[1;33m(\u001b[0m\u001b[0mf\u001b[0m\u001b[1;33m)\u001b[0m\u001b[1;33m\u001b[0m\u001b[1;33m\u001b[0m\u001b[0m\n",
      "\u001b[1;32mC:\\ProgramData\\Anaconda3\\lib\\wave.py\u001b[0m in \u001b[0;36m__init__\u001b[1;34m(self, f)\u001b[0m\n\u001b[0;32m    158\u001b[0m         \u001b[0mself\u001b[0m\u001b[1;33m.\u001b[0m\u001b[0m_i_opened_the_file\u001b[0m \u001b[1;33m=\u001b[0m \u001b[1;32mNone\u001b[0m\u001b[1;33m\u001b[0m\u001b[1;33m\u001b[0m\u001b[0m\n\u001b[0;32m    159\u001b[0m         \u001b[1;32mif\u001b[0m \u001b[0misinstance\u001b[0m\u001b[1;33m(\u001b[0m\u001b[0mf\u001b[0m\u001b[1;33m,\u001b[0m \u001b[0mstr\u001b[0m\u001b[1;33m)\u001b[0m\u001b[1;33m:\u001b[0m\u001b[1;33m\u001b[0m\u001b[1;33m\u001b[0m\u001b[0m\n\u001b[1;32m--> 160\u001b[1;33m             \u001b[0mf\u001b[0m \u001b[1;33m=\u001b[0m \u001b[0mbuiltins\u001b[0m\u001b[1;33m.\u001b[0m\u001b[0mopen\u001b[0m\u001b[1;33m(\u001b[0m\u001b[0mf\u001b[0m\u001b[1;33m,\u001b[0m \u001b[1;34m'rb'\u001b[0m\u001b[1;33m)\u001b[0m\u001b[1;33m\u001b[0m\u001b[1;33m\u001b[0m\u001b[0m\n\u001b[0m\u001b[0;32m    161\u001b[0m             \u001b[0mself\u001b[0m\u001b[1;33m.\u001b[0m\u001b[0m_i_opened_the_file\u001b[0m \u001b[1;33m=\u001b[0m \u001b[0mf\u001b[0m\u001b[1;33m\u001b[0m\u001b[1;33m\u001b[0m\u001b[0m\n\u001b[0;32m    162\u001b[0m         \u001b[1;31m# else, assume it is an open file object already\u001b[0m\u001b[1;33m\u001b[0m\u001b[1;33m\u001b[0m\u001b[1;33m\u001b[0m\u001b[0m\n",
      "\u001b[1;31mKeyboardInterrupt\u001b[0m: "
     ]
    }
   ],
   "source": [
    "training_df = master_df[master_df['train_val_test'] == 'train'].copy()\n",
    "sound_clips = []\n",
    "# for index, train_entry in tqdm(training_df.iterrows(), total=df.shape[0]):\n",
    "for index, train_entry in training_df.iterrows():\n",
    "    fpath = 'train/audio/' + train_entry['filename']\n",
    "    spectrogram = graph_spectrogram(fpath)\n",
    "    graygram = rgb2gray(spectrogram)\n",
    "    normgram = normalize_gray(graygram)\n",
    "    norm_shape = normgram.shape\n",
    "    if(norm_shape[0]>150):\n",
    "        continue\n",
    "    redgram = block_reduce(normgram, block_size = (3,3), func = np.mean)\n",
    "#     print(redgram)\n",
    "    sound_clips.append(redgram)\n",
    "\n",
    "    \n"
   ]
  },
  {
   "cell_type": "code",
   "execution_count": null,
   "metadata": {},
   "outputs": [],
   "source": [
    "\n",
    "\n",
    "y_train = keras.utils.to_categorical(y_train, num_classes)\n",
    "#converts the data set so each integer(?) input is scaled from 0 to num_classes ???\n",
    "#could also be a dictionary\n",
    "x_train = x_train.reshape(x_train.shape[0], imheight, imwidth, 1)\n",
    "\n",
    "y_test = keras.utils.to_categorical(y_test, num_classes)\n",
    "#converts the data set so each integer(?) input is scaled from 0 to num_classes ???\n",
    "#could also be a dictionary\n",
    "x_test = x_train.reshape(x_test.shape[0], imheight, imwidth, 1)\n",
    "\n",
    "print(\"x and y training/testing data done and formatted, starting keras sequential model function now\")\n",
    "\n",
    "model.fit(x_train, y_train, batch_size=4, epochs=10, verbose=1, validation_data=(x_test, y_test))\n",
    "\n",
    "save_model_to_disk(model)"
   ]
  },
  {
   "cell_type": "code",
   "execution_count": null,
   "metadata": {},
   "outputs": [],
   "source": [
    "# for i in range(int(len(folder_names))):\n",
    "#     # goes to the column for the respective audio folder\n",
    "#     folder_name = ws.cell(row=1, column=i+1).value\n",
    "#     for j in range(train_num+test_num):\n",
    "#         # iterates through the rows\n",
    "#         file_name = ws.cell(row=j+2, column=i+1).value\n",
    "#         file_path = str(main_directory) + \"\\\\\" + str(folder_name) + \"\\\\\" +str(file_name) \n",
    "#         print(str(j))\n",
    "#         spectrogram = graph_spectrogram(file_path)\n",
    "#         graygram = rgb2gray(spectrogram)\n",
    "#         normgram = normalize_gray(graygram)\n",
    "#         norm_shape = normgram.shape\n",
    "#         if(norm_shape[0]>150):\n",
    "#             continue\n",
    "#         redgram = block_reduce(normgram, block_size = (3,3), func = np.mean)\n",
    "#         if j < int(train_num):\n",
    "#             # check to make sure the split is right\n",
    "#             x_train[j,:,:] = redgram\n",
    "#             y_train[j] = k\n",
    "#             print(folder_name + \": Training Data Progress = {:2.1%}\".format(float(j+1) / int(train_num), end=\"\\r\"))\n",
    "#         else:\n",
    "#             x_test[j,:,:] = redgram\n",
    "#             y_test[j] = k\n",
    "#             print(folder_name + \": Testing Data Progress = {:2.1%}\".format(float(j+1-int(train_num)) / int(test_num), end=\"\\r\"))\n",
    "#         if j == train_num:\n",
    "#             k = 0\n",
    "#         k = k + 1"
   ]
  }
 ],
 "metadata": {
  "kernelspec": {
   "display_name": "Python 3",
   "language": "python",
   "name": "python3"
  },
  "language_info": {
   "codemirror_mode": {
    "name": "ipython",
    "version": 3
   },
   "file_extension": ".py",
   "mimetype": "text/x-python",
   "name": "python",
   "nbconvert_exporter": "python",
   "pygments_lexer": "ipython3",
   "version": "3.7.9"
  }
 },
 "nbformat": 4,
 "nbformat_minor": 4
}
