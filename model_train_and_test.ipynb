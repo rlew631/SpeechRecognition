{
 "cells": [
  {
   "cell_type": "markdown",
   "metadata": {},
   "source": [
    "# Audio Recognition"
   ]
  },
  {
   "cell_type": "code",
   "execution_count": 7,
   "metadata": {},
   "outputs": [],
   "source": [
    "#import pyaudio\n",
    "import matplotlib.pyplot as plt\n",
    "import seaborn as sns\n",
    "from scipy import signal\n",
    "\n",
    "import os\n",
    "import numpy as np\n",
    "import pandas as pd\n",
    "import random\n",
    "\n",
    "# from tqdm.notebook import tqdm\n",
    "from sklearn.model_selection import StratifiedKFold, ShuffleSplit\n",
    "\n",
    "#To find the duration of wave file in seconds\n",
    "# import wave\n",
    "# import contextlib\n",
    "# import librosa\n",
    "# import soundfile as sf\n",
    "\n",
    "# Other imports. Can they be deleted?\n",
    "# import time\n",
    "# import datetime\n",
    "\n",
    "import tensorflow as tf\n",
    "import keras\n",
    "\n",
    "# custom functions\n",
    "from speech_dependencies import save_model_to_disk, graph_spectrogram, load_waves\n",
    "from model_dependencies import new_keras, plot_results\n",
    "plt.rcParams['figure.dpi'] = 80"
   ]
  },
  {
   "cell_type": "code",
   "execution_count": 2,
   "metadata": {},
   "outputs": [
    {
     "name": "stdout",
     "output_type": "stream",
     "text": [
      "1 Physical GPUs, 1 Logical GPU\n"
     ]
    }
   ],
   "source": [
    "gpus = tf.config.experimental.list_physical_devices('GPU')\n",
    "if gpus:\n",
    "  # Restrict TensorFlow to only use the first GPU\n",
    "    try:\n",
    "        tf.config.experimental.set_memory_growth(gpus[0], True)\n",
    "        tf.config.experimental.set_visible_devices(gpus[0], 'GPU')\n",
    "        logical_gpus = tf.config.experimental.list_logical_devices('GPU')\n",
    "        print(len(gpus), \"Physical GPUs,\", len(logical_gpus), \"Logical GPU\")\n",
    "    except RuntimeError as e:\n",
    "        # Visible devices must be set before GPUs have been initialized\n",
    "        print(e)"
   ]
  },
  {
   "cell_type": "markdown",
   "metadata": {},
   "source": [
    "## Creating a Directory for the Files"
   ]
  },
  {
   "cell_type": "code",
   "execution_count": 3,
   "metadata": {},
   "outputs": [
    {
     "data": {
      "text/html": [
       "<div>\n",
       "<style scoped>\n",
       "    .dataframe tbody tr th:only-of-type {\n",
       "        vertical-align: middle;\n",
       "    }\n",
       "\n",
       "    .dataframe tbody tr th {\n",
       "        vertical-align: top;\n",
       "    }\n",
       "\n",
       "    .dataframe thead th {\n",
       "        text-align: right;\n",
       "    }\n",
       "</style>\n",
       "<table border=\"1\" class=\"dataframe\">\n",
       "  <thead>\n",
       "    <tr style=\"text-align: right;\">\n",
       "      <th></th>\n",
       "      <th>filename</th>\n",
       "      <th>target</th>\n",
       "      <th>train_val_test</th>\n",
       "    </tr>\n",
       "  </thead>\n",
       "  <tbody>\n",
       "    <tr>\n",
       "      <th>0</th>\n",
       "      <td>bed/00176480_nohash_0.wav</td>\n",
       "      <td>bed</td>\n",
       "      <td>train</td>\n",
       "    </tr>\n",
       "    <tr>\n",
       "      <th>1</th>\n",
       "      <td>bed/004ae714_nohash_0.wav</td>\n",
       "      <td>bed</td>\n",
       "      <td>train</td>\n",
       "    </tr>\n",
       "    <tr>\n",
       "      <th>2</th>\n",
       "      <td>bed/004ae714_nohash_1.wav</td>\n",
       "      <td>bed</td>\n",
       "      <td>train</td>\n",
       "    </tr>\n",
       "    <tr>\n",
       "      <th>3</th>\n",
       "      <td>bed/00f0204f_nohash_0.wav</td>\n",
       "      <td>bed</td>\n",
       "      <td>train</td>\n",
       "    </tr>\n",
       "    <tr>\n",
       "      <th>4</th>\n",
       "      <td>bed/00f0204f_nohash_1.wav</td>\n",
       "      <td>bed</td>\n",
       "      <td>train</td>\n",
       "    </tr>\n",
       "  </tbody>\n",
       "</table>\n",
       "</div>"
      ],
      "text/plain": [
       "                    filename target train_val_test\n",
       "0  bed/00176480_nohash_0.wav    bed          train\n",
       "1  bed/004ae714_nohash_0.wav    bed          train\n",
       "2  bed/004ae714_nohash_1.wav    bed          train\n",
       "3  bed/00f0204f_nohash_0.wav    bed          train\n",
       "4  bed/00f0204f_nohash_1.wav    bed          train"
      ]
     },
     "execution_count": 3,
     "metadata": {},
     "output_type": "execute_result"
    }
   ],
   "source": [
    "folder_names = [f for f in os.listdir('train/audio') if not 'background' in f]\n",
    "folder_names.sort()\n",
    "\n",
    "file = open(\"train/testing_list.txt\", \"r\")\n",
    "testing_list = file.read().split('\\n')\n",
    "file.close()\n",
    "file = open(\"train/validation_list.txt\", \"r\")\n",
    "validation_list = file.read().split('\\n')\n",
    "\n",
    "master_file_list = []\n",
    "master_target_list = []\n",
    "train_val_test_list = []\n",
    "for phrase in folder_names:\n",
    "    file_list = [phrase + '/' + f for f in os.listdir('train/audio/' + phrase) if '.wav' in f]\n",
    "    for file in file_list:\n",
    "        if file in testing_list:\n",
    "            train_val_test_list.append('test')\n",
    "        elif file in validation_list:\n",
    "            train_val_test_list.append('val')\n",
    "        else:\n",
    "            train_val_test_list.append('train')\n",
    "        master_target_list.append(phrase)\n",
    "        master_file_list.append(file)\n",
    "data = np.transpose(np.array([master_file_list, master_target_list, train_val_test_list]))\n",
    "master_df = pd.DataFrame(data = data, columns=['filename','target','train_val_test'])\n",
    "master_df.head()"
   ]
  },
  {
   "cell_type": "markdown",
   "metadata": {},
   "source": [
    "## Loading the Files and Training the Model"
   ]
  },
  {
   "cell_type": "code",
   "execution_count": 4,
   "metadata": {},
   "outputs": [],
   "source": [
    "def train_val_load(X, y, num_classes, train_or_val):\n",
    "    if train_or_val == 'train':\n",
    "        print('loading training set')\n",
    "    else:\n",
    "        print('loading validation set')\n",
    "        \n",
    "    sound_clips = []\n",
    "    for ind, fpath in enumerate(X):\n",
    "        # update code to `try` loading pickles\n",
    "        # or preprocess sound clips and save as pickles\n",
    "        redgram = load_waves(fpath)\n",
    "        if redgram.shape[0] != 14:\n",
    "            print('\\tbad redgram shape')\n",
    "            # if experiencing sporadic accuracy between batches\n",
    "            # see if it's on the 'bad normgram shape' batches\n",
    "            # might be an indexing error\n",
    "            y = np.delete(y, ind)\n",
    "            continue\n",
    "        sound_clips.append(redgram)\n",
    "    sound_clips = np.asarray(sound_clips, dtype=np.float32)\n",
    "#     sound_clips = np.array(sound_clips, dtype=np.float32)\n",
    "    print(f'\\tx shape (before reshape):{sound_clips.shape}')\n",
    "    sound_clips = sound_clips.reshape( # maybe this is the error? looks like one of the sound clips had a super choppy spectrogram\n",
    "                                sound_clips.shape[0],\n",
    "                                sound_clips.shape[1], \n",
    "                                sound_clips.shape[2],1)\n",
    "    print(f'\\tx shape (after reshape):{sound_clips.shape}')\n",
    "    \n",
    "    for y_ind in range(len(y)):\n",
    "        y[y_ind] = mapping[y[y_ind]]\n",
    "    y = keras.utils.to_categorical(y, num_classes) # this might be the part that's fubar, try keras ohe. should still work decent for the number of samples tho?\n",
    "    print(f'\\ty shape:{y.shape}')\n",
    "    \n",
    "    # to see if the spectrogram looks decent\n",
    "    sns.heatmap(sound_clips[0][:,:,0])\n",
    "    plt.show()\n",
    "    \n",
    "    return sound_clips, y"
   ]
  },
  {
   "cell_type": "code",
   "execution_count": 5,
   "metadata": {},
   "outputs": [
    {
     "name": "stdout",
     "output_type": "stream",
     "text": [
      "Label mapping:\n",
      "{'seven': 0, 'five': 1, 'one': 2, 'go': 3, 'right': 4, 'yes': 5, 'four': 6, 'bird': 7, 'zero': 8, 'tree': 9, 'six': 10, 'sheila': 11, 'two': 12, 'up': 13, 'wow': 14, 'down': 15, 'no': 16, 'three': 17, 'marvin': 18, 'house': 19, 'cat': 20, 'happy': 21, 'eight': 22, 'left': 23, 'nine': 24, 'off': 25, 'on': 26, 'stop': 27, 'bed': 28, 'dog': 29}\n"
     ]
    }
   ],
   "source": [
    "num_classes = len(master_df['target'].unique().tolist())\n",
    "# SKF is just being used to batch the data into memory, not do any sort of k-fold training process\n",
    "\n",
    "X_master = master_df['filename'][[(val in ['train','val']) for val in master_df['train_val_test']]]\n",
    "y_master = master_df['target'][[(val in ['train','val']) for val in master_df['train_val_test']]]\n",
    "X_master, y_master = np.array(X_master), np.array(y_master)\n",
    "\n",
    "y_master_set = list(set(y_master))\n",
    "mapping = {}\n",
    "for y in range(len(y_master_set)):\n",
    "    mapping[y_master_set[y]] = y\n",
    "print(f'Label mapping:\\n{mapping}')"
   ]
  },
  {
   "cell_type": "markdown",
   "metadata": {},
   "source": [
    "# from tensorflow.python.keras.callbacks import ReduceLROnPlateau, ModelCheckpoint, EarlyStopping\n",
    "# from tensorflow.python.platform import tf_logging as logging\n",
    "\n",
    "# class ReduceLRBacktrack(ReduceLROnPlateau):\n",
    "#     def __init__(self, best_path, *args, **kwargs):\n",
    "#         super(ReduceLRBacktrack, self).__init__(*args, **kwargs)\n",
    "#         self.best_path = best_path\n",
    "\n",
    "#     def on_epoch_end(self, epoch, logs=None):\n",
    "#         current = logs.get(self.monitor)\n",
    "#         if current is None:\n",
    "#             logging.warning('Reduce LR on plateau conditioned on metric `%s` '\n",
    "#                             'which is not available. Available metrics are: %s',\n",
    "#                              self.monitor, ','.join(list(logs.keys())))\n",
    "#         if not self.monitor_op(current, self.best): # not new best\n",
    "#             if not self.in_cooldown(): # and we're not in cooldown\n",
    "#                 if self.wait+1 >= self.patience: # going to reduce lr\n",
    "#                     # load best model so far\n",
    "#                     print(\"Backtracking to best model before reducting LR\")\n",
    "#                     self.model.load_weights(self.best_path)\n",
    "\n",
    "#         super().on_epoch_end(epoch, logs) # actually reduce LR\n",
    "\n",
    "# model_checkpoint_path = 'MyModel_tf/checkpoint.h5'\n",
    "\n",
    "# c1 = ModelCheckpoint(model_checkpoint_path, \n",
    "#                      save_best_only=True,\n",
    "# #                      monitor='val_loss')\n",
    "#                      monitor='val_accuracy')\n",
    "# c2 = ReduceLRBacktrack(best_path=model_checkpoint_path,\n",
    "# #                        monitor='val_loss',\n",
    "#                        monitor='val_accuracy',\n",
    "#                        factor=0.1,\n",
    "#                        patience=5)\n",
    "# c3 = EarlyStopping(monitor='val_accuracy',\n",
    "#                 patience=20,\n",
    "#                 verbose=1,\n",
    "#                 restore_best_weights=True)\n",
    "\n",
    "#############################################################################################################################################\n",
    "## Can probably use the custom callback(s), looks like the accuracy was messed up by Adam(learning_rate = 0.01) not the callback functions ##\n",
    "#############################################################################################################################################\n",
    "### Maybe not??? works fine without the callbacks. Maybe monitoring val_loss might be better... who knowssssss O_O ###\n",
    "######################################################################################################################\n",
    "c1 = tf.keras.callbacks.ReduceLROnPlateau(\n",
    "                    monitor='val_loss',\n",
    "                    factor=0.1,\n",
    "                    patience=5,\n",
    "                    verbose=1)\n",
    "c2 = tf.keras.callbacks.EarlyStopping(\n",
    "                monitor='val_loss',\n",
    "                patience=20,\n",
    "                verbose=1,\n",
    "                restore_best_weights=True)"
   ]
  },
  {
   "cell_type": "code",
   "execution_count": 8,
   "metadata": {},
   "outputs": [
    {
     "name": "stdout",
     "output_type": "stream",
     "text": [
      "working on batch: 125/150h 124, already trained up to batch 125. skipping...\n",
      "loading training set\n"
     ]
    },
    {
     "name": "stderr",
     "output_type": "stream",
     "text": [
      "C:\\ProgramData\\Anaconda3\\lib\\site-packages\\matplotlib\\axes\\_axes.py:7558: RuntimeWarning: divide by zero encountered in log10\n",
      "  Z = 10. * np.log10(spec)\n"
     ]
    },
    {
     "name": "stdout",
     "output_type": "stream",
     "text": [
      "\tx shape (before reshape):(289, 14, 20)\n",
      "\tx shape (after reshape):(289, 14, 20, 1)\n",
      "\ty shape:(289, 30)\n"
     ]
    },
    {
     "data": {
      "image/png": "[encoded data removed]",
      "text/plain": [
       "<Figure size 60x40 with 2 Axes>"
      ]
     },
     "metadata": {
      "needs_background": "light"
     },
     "output_type": "display_data"
    },
    {
     "name": "stdout",
     "output_type": "stream",
     "text": [
      "loading validation set\n",
      "\tx shape (before reshape):(97, 14, 20)\n",
      "\tx shape (after reshape):(97, 14, 20, 1)\n",
      "\ty shape:(97, 30)\n"
     ]
    },
    {
     "data": {
      "image/png": "[encoded data removed]",
      "text/plain": [
       "<Figure size 60x40 with 2 Axes>"
      ]
     },
     "metadata": {
      "needs_background": "light"
     },
     "output_type": "display_data"
    },
    {
     "name": "stdout",
     "output_type": "stream",
     "text": [
      "Loading an existing model\n",
      "Epoch 1/5\n",
      "10/10 [==============================] - 9s 43ms/step - loss: 3.3986 - accuracy: 0.0519 - val_loss: 3.4228 - val_accuracy: 0.0000e+00\n",
      "Epoch 2/5\n",
      "10/10 [==============================] - 0s 10ms/step - loss: 3.3875 - accuracy: 0.0484 - val_loss: 3.4295 - val_accuracy: 0.0000e+00\n",
      "Epoch 3/5\n",
      "10/10 [==============================] - 0s 13ms/step - loss: 3.3854 - accuracy: 0.0484 - val_loss: 3.4350 - val_accuracy: 0.0000e+00\n",
      "Epoch 4/5\n",
      "10/10 [==============================] - 0s 11ms/step - loss: 3.3875 - accuracy: 0.0484 - val_loss: 3.4295 - val_accuracy: 0.0000e+00\n",
      "Epoch 5/5\n",
      "10/10 [==============================] - 0s 12ms/step - loss: 3.3759 - accuracy: 0.0519 - val_loss: 3.4386 - val_accuracy: 0.0000e+00\n"
     ]
    },
    {
     "data": {
      "image/png": "[encoded data removed]",
      "text/plain": [
       "<Figure size 512x384 with 1 Axes>"
      ]
     },
     "metadata": {
      "needs_background": "light"
     },
     "output_type": "display_data"
    },
    {
     "data": {
      "image/png": "[encoded data removed]",
      "text/plain": [
       "<Figure size 512x384 with 1 Axes>"
      ]
     },
     "metadata": {
      "needs_background": "light"
     },
     "output_type": "display_data"
    },
    {
     "name": "stdout",
     "output_type": "stream",
     "text": [
      "INFO:tensorflow:Assets written to: ./MyModel_tf\\assets\n",
      "working on batch: 126/150\n",
      "loading training set\n",
      "\tbad redgram shape\n"
     ]
    },
    {
     "name": "stderr",
     "output_type": "stream",
     "text": [
      "C:\\ProgramData\\Anaconda3\\lib\\site-packages\\matplotlib\\axes\\_axes.py:7558: RuntimeWarning: divide by zero encountered in log10\n",
      "  Z = 10. * np.log10(spec)\n"
     ]
    },
    {
     "name": "stdout",
     "output_type": "stream",
     "text": [
      "\tx shape (before reshape):(288, 14, 20)\n",
      "\tx shape (after reshape):(288, 14, 20, 1)\n",
      "\ty shape:(288, 30)\n"
     ]
    },
    {
     "data": {
      "image/png": "[encoded data removed]",
      "text/plain": [
       "<Figure size 60x40 with 2 Axes>"
      ]
     },
     "metadata": {
      "needs_background": "light"
     },
     "output_type": "display_data"
    },
    {
     "name": "stdout",
     "output_type": "stream",
     "text": [
      "loading validation set\n"
     ]
    },
    {
     "ename": "KeyboardInterrupt",
     "evalue": "",
     "output_type": "error",
     "traceback": [
      "\u001b[1;31m---------------------------------------------------------------------------\u001b[0m",
      "\u001b[1;31mKeyboardInterrupt\u001b[0m                         Traceback (most recent call last)",
      "\u001b[1;32m<ipython-input-8-d2d78a5c0b4e>\u001b[0m in \u001b[0;36m<module>\u001b[1;34m\u001b[0m\n\u001b[0;32m     15\u001b[0m         \u001b[1;31m# Split is done, X=filename, y=target\u001b[0m\u001b[1;33m\u001b[0m\u001b[1;33m\u001b[0m\u001b[1;33m\u001b[0m\u001b[0m\n\u001b[0;32m     16\u001b[0m         \u001b[0mX_train\u001b[0m\u001b[1;33m,\u001b[0m \u001b[0my_train\u001b[0m \u001b[1;33m=\u001b[0m \u001b[0mtrain_val_load\u001b[0m\u001b[1;33m(\u001b[0m\u001b[0mX_train\u001b[0m\u001b[1;33m,\u001b[0m \u001b[0my_train\u001b[0m\u001b[1;33m,\u001b[0m \u001b[0mnum_classes\u001b[0m\u001b[1;33m,\u001b[0m \u001b[0mtrain_or_val\u001b[0m \u001b[1;33m=\u001b[0m \u001b[1;34m'train'\u001b[0m\u001b[1;33m)\u001b[0m\u001b[1;33m\u001b[0m\u001b[1;33m\u001b[0m\u001b[0m\n\u001b[1;32m---> 17\u001b[1;33m         \u001b[0mX_val\u001b[0m\u001b[1;33m,\u001b[0m \u001b[0my_val\u001b[0m \u001b[1;33m=\u001b[0m \u001b[0mtrain_val_load\u001b[0m\u001b[1;33m(\u001b[0m\u001b[0mX_val\u001b[0m\u001b[1;33m,\u001b[0m \u001b[0my_val\u001b[0m\u001b[1;33m,\u001b[0m \u001b[0mnum_classes\u001b[0m\u001b[1;33m,\u001b[0m \u001b[0mtrain_or_val\u001b[0m \u001b[1;33m=\u001b[0m \u001b[1;34m'val'\u001b[0m\u001b[1;33m)\u001b[0m\u001b[1;33m\u001b[0m\u001b[1;33m\u001b[0m\u001b[0m\n\u001b[0m\u001b[0;32m     18\u001b[0m \u001b[1;33m\u001b[0m\u001b[0m\n\u001b[0;32m     19\u001b[0m         \u001b[1;32mtry\u001b[0m\u001b[1;33m:\u001b[0m\u001b[1;33m\u001b[0m\u001b[1;33m\u001b[0m\u001b[0m\n",
      "\u001b[1;32m<ipython-input-4-3cb930cd16af>\u001b[0m in \u001b[0;36mtrain_val_load\u001b[1;34m(X, y, num_classes, train_or_val)\u001b[0m\n\u001b[0;32m      9\u001b[0m         \u001b[1;31m# update code to `try` loading pickles\u001b[0m\u001b[1;33m\u001b[0m\u001b[1;33m\u001b[0m\u001b[1;33m\u001b[0m\u001b[0m\n\u001b[0;32m     10\u001b[0m         \u001b[1;31m# or preprocess sound clips and save as pickles\u001b[0m\u001b[1;33m\u001b[0m\u001b[1;33m\u001b[0m\u001b[1;33m\u001b[0m\u001b[0m\n\u001b[1;32m---> 11\u001b[1;33m         \u001b[0mredgram\u001b[0m \u001b[1;33m=\u001b[0m \u001b[0mload_waves\u001b[0m\u001b[1;33m(\u001b[0m\u001b[0mfpath\u001b[0m\u001b[1;33m)\u001b[0m\u001b[1;33m\u001b[0m\u001b[1;33m\u001b[0m\u001b[0m\n\u001b[0m\u001b[0;32m     12\u001b[0m         \u001b[1;32mif\u001b[0m \u001b[0mredgram\u001b[0m\u001b[1;33m.\u001b[0m\u001b[0mshape\u001b[0m\u001b[1;33m[\u001b[0m\u001b[1;36m0\u001b[0m\u001b[1;33m]\u001b[0m \u001b[1;33m!=\u001b[0m \u001b[1;36m14\u001b[0m\u001b[1;33m:\u001b[0m\u001b[1;33m\u001b[0m\u001b[1;33m\u001b[0m\u001b[0m\n\u001b[0;32m     13\u001b[0m             \u001b[0mprint\u001b[0m\u001b[1;33m(\u001b[0m\u001b[1;34m'\\tbad redgram shape'\u001b[0m\u001b[1;33m)\u001b[0m\u001b[1;33m\u001b[0m\u001b[1;33m\u001b[0m\u001b[0m\n",
      "\u001b[1;32m~\\Documents\\SpeechRecognition\\speech_dependencies.py\u001b[0m in \u001b[0;36mload_waves\u001b[1;34m(fpath)\u001b[0m\n\u001b[0;32m     49\u001b[0m \u001b[1;32mdef\u001b[0m \u001b[0mload_waves\u001b[0m\u001b[1;33m(\u001b[0m\u001b[0mfpath\u001b[0m\u001b[1;33m)\u001b[0m\u001b[1;33m:\u001b[0m\u001b[1;33m\u001b[0m\u001b[1;33m\u001b[0m\u001b[0m\n\u001b[0;32m     50\u001b[0m     \u001b[0mfpath\u001b[0m \u001b[1;33m=\u001b[0m \u001b[1;34m'train/audio/'\u001b[0m \u001b[1;33m+\u001b[0m \u001b[0mfpath\u001b[0m\u001b[1;33m\u001b[0m\u001b[1;33m\u001b[0m\u001b[0m\n\u001b[1;32m---> 51\u001b[1;33m     \u001b[0mnormgram\u001b[0m \u001b[1;33m=\u001b[0m \u001b[0mgraph_spectrogram\u001b[0m\u001b[1;33m(\u001b[0m\u001b[0mfpath\u001b[0m\u001b[1;33m)\u001b[0m\u001b[1;33m\u001b[0m\u001b[1;33m\u001b[0m\u001b[0m\n\u001b[0m\u001b[0;32m     52\u001b[0m     \u001b[0mredgram\u001b[0m \u001b[1;33m=\u001b[0m \u001b[0mblock_reduce\u001b[0m\u001b[1;33m(\u001b[0m\u001b[0mnormgram\u001b[0m\u001b[1;33m,\u001b[0m \u001b[0mblock_size\u001b[0m \u001b[1;33m=\u001b[0m \u001b[1;33m(\u001b[0m\u001b[1;36m3\u001b[0m\u001b[1;33m,\u001b[0m\u001b[1;36m3\u001b[0m\u001b[1;33m)\u001b[0m\u001b[1;33m,\u001b[0m \u001b[0mfunc\u001b[0m \u001b[1;33m=\u001b[0m \u001b[0mnp\u001b[0m\u001b[1;33m.\u001b[0m\u001b[0mmean\u001b[0m\u001b[1;33m)\u001b[0m\u001b[1;33m\u001b[0m\u001b[1;33m\u001b[0m\u001b[0m\n\u001b[0;32m     53\u001b[0m     \u001b[1;31m# looks like block_reduce here is gaussian blur w/out padding\u001b[0m\u001b[1;33m\u001b[0m\u001b[1;33m\u001b[0m\u001b[1;33m\u001b[0m\u001b[0m\n",
      "\u001b[1;32m~\\Documents\\SpeechRecognition\\speech_dependencies.py\u001b[0m in \u001b[0;36mgraph_spectrogram\u001b[1;34m(wav_file, nfft, noverlap)\u001b[0m\n\u001b[0;32m     28\u001b[0m                                     \u001b[0mcmap\u001b[0m\u001b[1;33m=\u001b[0m\u001b[1;34m\"gray\"\u001b[0m\u001b[1;33m,\u001b[0m\u001b[1;33m\u001b[0m\u001b[1;33m\u001b[0m\u001b[0m\n\u001b[0;32m     29\u001b[0m                                     \u001b[0mnoverlap\u001b[0m\u001b[1;33m=\u001b[0m\u001b[0mnoverlap\u001b[0m\u001b[1;33m,\u001b[0m\u001b[1;33m\u001b[0m\u001b[1;33m\u001b[0m\u001b[0m\n\u001b[1;32m---> 30\u001b[1;33m                                     NFFT=nfft)\n\u001b[0m\u001b[0;32m     31\u001b[0m \u001b[1;31m#     pxx, freqs, bins, im = ax.specgram(x=data, Fs=rate, mode=\"magnitude\", cmap=\"gray\", noverlap=noverlap, NFFT=nfft)\u001b[0m\u001b[1;33m\u001b[0m\u001b[1;33m\u001b[0m\u001b[1;33m\u001b[0m\u001b[0m\n\u001b[0;32m     32\u001b[0m     \u001b[0max\u001b[0m\u001b[1;33m.\u001b[0m\u001b[0maxis\u001b[0m\u001b[1;33m(\u001b[0m\u001b[1;34m'off'\u001b[0m\u001b[1;33m)\u001b[0m\u001b[1;33m\u001b[0m\u001b[1;33m\u001b[0m\u001b[0m\n",
      "\u001b[1;32mC:\\ProgramData\\Anaconda3\\lib\\site-packages\\matplotlib\\__init__.py\u001b[0m in \u001b[0;36minner\u001b[1;34m(ax, data, *args, **kwargs)\u001b[0m\n\u001b[0;32m   1436\u001b[0m     \u001b[1;32mdef\u001b[0m \u001b[0minner\u001b[0m\u001b[1;33m(\u001b[0m\u001b[0max\u001b[0m\u001b[1;33m,\u001b[0m \u001b[1;33m*\u001b[0m\u001b[0margs\u001b[0m\u001b[1;33m,\u001b[0m \u001b[0mdata\u001b[0m\u001b[1;33m=\u001b[0m\u001b[1;32mNone\u001b[0m\u001b[1;33m,\u001b[0m \u001b[1;33m**\u001b[0m\u001b[0mkwargs\u001b[0m\u001b[1;33m)\u001b[0m\u001b[1;33m:\u001b[0m\u001b[1;33m\u001b[0m\u001b[1;33m\u001b[0m\u001b[0m\n\u001b[0;32m   1437\u001b[0m         \u001b[1;32mif\u001b[0m \u001b[0mdata\u001b[0m \u001b[1;32mis\u001b[0m \u001b[1;32mNone\u001b[0m\u001b[1;33m:\u001b[0m\u001b[1;33m\u001b[0m\u001b[1;33m\u001b[0m\u001b[0m\n\u001b[1;32m-> 1438\u001b[1;33m             \u001b[1;32mreturn\u001b[0m \u001b[0mfunc\u001b[0m\u001b[1;33m(\u001b[0m\u001b[0max\u001b[0m\u001b[1;33m,\u001b[0m \u001b[1;33m*\u001b[0m\u001b[0mmap\u001b[0m\u001b[1;33m(\u001b[0m\u001b[0msanitize_sequence\u001b[0m\u001b[1;33m,\u001b[0m \u001b[0margs\u001b[0m\u001b[1;33m)\u001b[0m\u001b[1;33m,\u001b[0m \u001b[1;33m**\u001b[0m\u001b[0mkwargs\u001b[0m\u001b[1;33m)\u001b[0m\u001b[1;33m\u001b[0m\u001b[1;33m\u001b[0m\u001b[0m\n\u001b[0m\u001b[0;32m   1439\u001b[0m \u001b[1;33m\u001b[0m\u001b[0m\n\u001b[0;32m   1440\u001b[0m         \u001b[0mbound\u001b[0m \u001b[1;33m=\u001b[0m \u001b[0mnew_sig\u001b[0m\u001b[1;33m.\u001b[0m\u001b[0mbind\u001b[0m\u001b[1;33m(\u001b[0m\u001b[0max\u001b[0m\u001b[1;33m,\u001b[0m \u001b[1;33m*\u001b[0m\u001b[0margs\u001b[0m\u001b[1;33m,\u001b[0m \u001b[1;33m**\u001b[0m\u001b[0mkwargs\u001b[0m\u001b[1;33m)\u001b[0m\u001b[1;33m\u001b[0m\u001b[1;33m\u001b[0m\u001b[0m\n",
      "\u001b[1;32mC:\\ProgramData\\Anaconda3\\lib\\site-packages\\matplotlib\\axes\\_axes.py\u001b[0m in \u001b[0;36mspecgram\u001b[1;34m(self, x, NFFT, Fs, Fc, detrend, window, noverlap, cmap, xextent, pad_to, sides, scale_by_freq, mode, scale, vmin, vmax, **kwargs)\u001b[0m\n\u001b[0;32m   7550\u001b[0m                                        \u001b[0msides\u001b[0m\u001b[1;33m=\u001b[0m\u001b[0msides\u001b[0m\u001b[1;33m,\u001b[0m\u001b[1;33m\u001b[0m\u001b[1;33m\u001b[0m\u001b[0m\n\u001b[0;32m   7551\u001b[0m                                        \u001b[0mscale_by_freq\u001b[0m\u001b[1;33m=\u001b[0m\u001b[0mscale_by_freq\u001b[0m\u001b[1;33m,\u001b[0m\u001b[1;33m\u001b[0m\u001b[1;33m\u001b[0m\u001b[0m\n\u001b[1;32m-> 7552\u001b[1;33m                                        mode=mode)\n\u001b[0m\u001b[0;32m   7553\u001b[0m \u001b[1;33m\u001b[0m\u001b[0m\n\u001b[0;32m   7554\u001b[0m         \u001b[1;32mif\u001b[0m \u001b[0mscale\u001b[0m \u001b[1;33m==\u001b[0m \u001b[1;34m'linear'\u001b[0m\u001b[1;33m:\u001b[0m\u001b[1;33m\u001b[0m\u001b[1;33m\u001b[0m\u001b[0m\n",
      "\u001b[1;32mC:\\ProgramData\\Anaconda3\\lib\\site-packages\\matplotlib\\mlab.py\u001b[0m in \u001b[0;36mspecgram\u001b[1;34m(x, NFFT, Fs, detrend, window, noverlap, pad_to, sides, scale_by_freq, mode)\u001b[0m\n\u001b[0;32m    901\u001b[0m                                       \u001b[0msides\u001b[0m\u001b[1;33m=\u001b[0m\u001b[0msides\u001b[0m\u001b[1;33m,\u001b[0m\u001b[1;33m\u001b[0m\u001b[1;33m\u001b[0m\u001b[0m\n\u001b[0;32m    902\u001b[0m                                       \u001b[0mscale_by_freq\u001b[0m\u001b[1;33m=\u001b[0m\u001b[0mscale_by_freq\u001b[0m\u001b[1;33m,\u001b[0m\u001b[1;33m\u001b[0m\u001b[1;33m\u001b[0m\u001b[0m\n\u001b[1;32m--> 903\u001b[1;33m                                       mode=mode)\n\u001b[0m\u001b[0;32m    904\u001b[0m \u001b[1;33m\u001b[0m\u001b[0m\n\u001b[0;32m    905\u001b[0m     \u001b[1;32mif\u001b[0m \u001b[0mmode\u001b[0m \u001b[1;33m!=\u001b[0m \u001b[1;34m'complex'\u001b[0m\u001b[1;33m:\u001b[0m\u001b[1;33m\u001b[0m\u001b[1;33m\u001b[0m\u001b[0m\n",
      "\u001b[1;32mC:\\ProgramData\\Anaconda3\\lib\\site-packages\\matplotlib\\mlab.py\u001b[0m in \u001b[0;36m_spectral_helper\u001b[1;34m(x, y, NFFT, Fs, detrend_func, window, noverlap, pad_to, sides, scale_by_freq, mode)\u001b[0m\n\u001b[0;32m    508\u001b[0m         \u001b[0mresult\u001b[0m \u001b[1;33m=\u001b[0m \u001b[0mnp\u001b[0m\u001b[1;33m.\u001b[0m\u001b[0mconj\u001b[0m\u001b[1;33m(\u001b[0m\u001b[0mresult\u001b[0m\u001b[1;33m)\u001b[0m \u001b[1;33m*\u001b[0m \u001b[0mresultY\u001b[0m\u001b[1;33m\u001b[0m\u001b[1;33m\u001b[0m\u001b[0m\n\u001b[0;32m    509\u001b[0m     \u001b[1;32melif\u001b[0m \u001b[0mmode\u001b[0m \u001b[1;33m==\u001b[0m \u001b[1;34m'psd'\u001b[0m\u001b[1;33m:\u001b[0m\u001b[1;33m\u001b[0m\u001b[1;33m\u001b[0m\u001b[0m\n\u001b[1;32m--> 510\u001b[1;33m         \u001b[0mresult\u001b[0m \u001b[1;33m=\u001b[0m \u001b[0mnp\u001b[0m\u001b[1;33m.\u001b[0m\u001b[0mconj\u001b[0m\u001b[1;33m(\u001b[0m\u001b[0mresult\u001b[0m\u001b[1;33m)\u001b[0m \u001b[1;33m*\u001b[0m \u001b[0mresult\u001b[0m\u001b[1;33m\u001b[0m\u001b[1;33m\u001b[0m\u001b[0m\n\u001b[0m\u001b[0;32m    511\u001b[0m     \u001b[1;32melif\u001b[0m \u001b[0mmode\u001b[0m \u001b[1;33m==\u001b[0m \u001b[1;34m'magnitude'\u001b[0m\u001b[1;33m:\u001b[0m\u001b[1;33m\u001b[0m\u001b[1;33m\u001b[0m\u001b[0m\n\u001b[0;32m    512\u001b[0m         \u001b[0mresult\u001b[0m \u001b[1;33m=\u001b[0m \u001b[0mnp\u001b[0m\u001b[1;33m.\u001b[0m\u001b[0mabs\u001b[0m\u001b[1;33m(\u001b[0m\u001b[0mresult\u001b[0m\u001b[1;33m)\u001b[0m \u001b[1;33m/\u001b[0m \u001b[0mnp\u001b[0m\u001b[1;33m.\u001b[0m\u001b[0mabs\u001b[0m\u001b[1;33m(\u001b[0m\u001b[0mwindow\u001b[0m\u001b[1;33m)\u001b[0m\u001b[1;33m.\u001b[0m\u001b[0msum\u001b[0m\u001b[1;33m(\u001b[0m\u001b[1;33m)\u001b[0m\u001b[1;33m\u001b[0m\u001b[1;33m\u001b[0m\u001b[0m\n",
      "\u001b[1;31mKeyboardInterrupt\u001b[0m: "
     ]
    },
    {
     "data": {
      "image/png": "[encoded data removed]",
      "text/plain": [
       "<Figure size 60x40 with 1 Axes>"
      ]
     },
     "metadata": {
      "needs_background": "light"
     },
     "output_type": "display_data"
    }
   ],
   "source": [
    "batch_count = 1 # using a counter since enumerate doesn't work on skf.split\n",
    "total_splits = 150\n",
    "skf = StratifiedKFold(n_splits=total_splits, shuffle=True, random_state=42)\n",
    "for train_index, test_index in skf.split(X_master, y_master):\n",
    "    if batch_count < 125:\n",
    "        print(f'currently looking at batch {batch_count}, already trained up to batch 125. skipping...', end='\\r')\n",
    "        batch_count += 1\n",
    "        continue\n",
    "    print(f'working on batch: {batch_count}/{total_splits}')\n",
    "    rs = ShuffleSplit(n_splits=1, test_size=.25, random_state=42)\n",
    "    X, y = X_master[test_index], y_master[test_index]\n",
    "    for train_index2, test_index2 in rs.split(X):\n",
    "        X_train, X_val = X[train_index2], X[test_index2]\n",
    "        y_train, y_val = y[train_index2], y[test_index2]\n",
    "        # Split is done, X=filename, y=target\n",
    "        X_train, y_train = train_val_load(X_train, y_train, num_classes, train_or_val = 'train')\n",
    "        X_val, y_val = train_val_load(X_val, y_val, num_classes, train_or_val = 'val')\n",
    "        \n",
    "        try:\n",
    "            loaded_model = tf.keras.models.load_model('./MyModel_tf')\n",
    "            print(\"Loading an existing model\")\n",
    "#             history = loaded_model.fit(X_train, y_train, batch_size=16, epochs=50, callbacks=[c1,c2,c3], verbose=1, validation_data=(X_val, y_val))\n",
    "            history = loaded_model.fit(X_train, y_train, batch_size=32, epochs=5, verbose=1, validation_data=(X_val, y_val))\n",
    "            plot_results(history)\n",
    "            loaded_model.save('./MyModel_tf',save_format='tf')\n",
    "        except:\n",
    "            print(\"Starting with a fresh model\")\n",
    "            model = new_keras(input_shape=(\n",
    "                                    X_train.shape[1], \n",
    "                                    X_train.shape[2],1))\n",
    "#             history = model.fit(X_train, y_train, batch_size=16, epochs=30, callbacks=[c1,c2,c3], verbose=1, validation_data=(X_val, y_val))\n",
    "            history = model.fit(X_train, y_train, batch_size=32, epochs=5, verbose=1, validation_data=(X_val, y_val))\n",
    "            # Just deleted the callbacks from the previous line, try running again in the morning,\n",
    "            # Also maybe make another branch called development and quit pushing all this garbage.....\n",
    "            plot_results(history)\n",
    "            model.save('./MyModel_tf',save_format='tf')\n",
    "            model=[]\n",
    "        X_train, y_train, X_val, y_val = [],[],[],[]\n",
    "    batch_count += 1"
   ]
  },
  {
   "cell_type": "code",
   "execution_count": null,
   "metadata": {},
   "outputs": [],
   "source": []
  },
  {
   "cell_type": "code",
   "execution_count": null,
   "metadata": {},
   "outputs": [],
   "source": []
  },
  {
   "cell_type": "code",
   "execution_count": null,
   "metadata": {},
   "outputs": [],
   "source": []
  },
  {
   "cell_type": "code",
   "execution_count": null,
   "metadata": {},
   "outputs": [],
   "source": []
  },
  {
   "cell_type": "code",
   "execution_count": null,
   "metadata": {},
   "outputs": [],
   "source": []
  },
  {
   "cell_type": "code",
   "execution_count": null,
   "metadata": {},
   "outputs": [],
   "source": []
  },
  {
   "cell_type": "code",
   "execution_count": null,
   "metadata": {},
   "outputs": [],
   "source": [
    "save_model_to_disk(model)"
   ]
  },
  {
   "cell_type": "code",
   "execution_count": 10,
   "metadata": {},
   "outputs": [
    {
     "name": "stdout",
     "output_type": "stream",
     "text": [
      "working on batch: 1/150\n",
      "loading training set\n"
     ]
    },
    {
     "name": "stderr",
     "output_type": "stream",
     "text": [
      "C:\\ProgramData\\Anaconda3\\lib\\site-packages\\matplotlib\\axes\\_axes.py:7558: RuntimeWarning: divide by zero encountered in log10\n",
      "  Z = 10. * np.log10(spec)\n"
     ]
    },
    {
     "name": "stdout",
     "output_type": "stream",
     "text": [
      "\tx shape (before reshape):(289, 14, 20)\n",
      "\tx shape (after reshape):(289, 14, 20, 1)\n",
      "\ty shape:(289, 30)\n"
     ]
    },
    {
     "data": {
      "image/png": "[encoded data removed]",
      "text/plain": [
       "<Figure size 60x40 with 2 Axes>"
      ]
     },
     "metadata": {
      "needs_background": "light"
     },
     "output_type": "display_data"
    },
    {
     "name": "stdout",
     "output_type": "stream",
     "text": [
      "loading validation set\n",
      "\tx shape (before reshape):(97, 14, 20)\n",
      "\tx shape (after reshape):(97, 14, 20, 1)\n",
      "\ty shape:(97, 30)\n"
     ]
    },
    {
     "data": {
      "image/png": "[encoded data removed]",
      "text/plain": [
       "<Figure size 60x40 with 2 Axes>"
      ]
     },
     "metadata": {
      "needs_background": "light"
     },
     "output_type": "display_data"
    },
    {
     "name": "stdout",
     "output_type": "stream",
     "text": [
      "Starting with a fresh model\n",
      "Model: \"sequential_1\"\n",
      "_________________________________________________________________\n",
      "Layer (type)                 Output Shape              Param #   \n",
      "=================================================================\n",
      "conv2d_2 (Conv2D)            (None, 10, 16, 32)        832       \n",
      "_________________________________________________________________\n",
      "max_pooling2d_2 (MaxPooling2 (None, 5, 8, 32)          0         \n",
      "_________________________________________________________________\n",
      "conv2d_3 (Conv2D)            (None, 3, 6, 64)          18496     \n",
      "_________________________________________________________________\n",
      "max_pooling2d_3 (MaxPooling2 (None, 1, 3, 64)          0         \n",
      "_________________________________________________________________\n",
      "flatten_1 (Flatten)          (None, 192)               0         \n",
      "_________________________________________________________________\n",
      "dropout_2 (Dropout)          (None, 192)               0         \n",
      "_________________________________________________________________\n",
      "dense_2 (Dense)              (None, 128)               24704     \n",
      "_________________________________________________________________\n",
      "dropout_3 (Dropout)          (None, 128)               0         \n",
      "_________________________________________________________________\n",
      "dense_3 (Dense)              (None, 30)                3870      \n",
      "=================================================================\n",
      "Total params: 47,902\n",
      "Trainable params: 47,902\n",
      "Non-trainable params: 0\n",
      "_________________________________________________________________\n",
      "None\n",
      "Epoch 1/5\n",
      "10/10 [==============================] - 1s 24ms/step - loss: 3.4081 - accuracy: 0.0126 - val_loss: 3.4027 - val_accuracy: 0.0619\n",
      "Epoch 2/5\n",
      "10/10 [==============================] - 0s 13ms/step - loss: 3.3991 - accuracy: 0.0229 - val_loss: 3.4083 - val_accuracy: 0.0412\n",
      "Epoch 3/5\n",
      "10/10 [==============================] - 0s 11ms/step - loss: 3.3919 - accuracy: 0.0409 - val_loss: 3.4223 - val_accuracy: 0.0825\n",
      "Epoch 4/5\n",
      "10/10 [==============================] - 0s 11ms/step - loss: 3.3915 - accuracy: 0.0263 - val_loss: 3.4329 - val_accuracy: 0.0309\n",
      "Epoch 5/5\n",
      "10/10 [==============================] - 0s 10ms/step - loss: 3.3998 - accuracy: 0.0398 - val_loss: 3.4386 - val_accuracy: 0.0722\n"
     ]
    },
    {
     "data": {
      "image/png": "[encoded data removed]",
      "text/plain": [
       "<Figure size 512x384 with 1 Axes>"
      ]
     },
     "metadata": {
      "needs_background": "light"
     },
     "output_type": "display_data"
    },
    {
     "data": {
      "image/png": "[encoded data removed]",
      "text/plain": [
       "<Figure size 512x384 with 1 Axes>"
      ]
     },
     "metadata": {
      "needs_background": "light"
     },
     "output_type": "display_data"
    },
    {
     "name": "stdout",
     "output_type": "stream",
     "text": [
      "Saved model to disk\n",
      "Saved model to disk\n",
      "working on batch: 2/150\n",
      "loading training set\n",
      "\tbad redgram shape\n",
      "\tx shape (before reshape):(288, 14, 20)\n",
      "\tx shape (after reshape):(288, 14, 20, 1)\n",
      "\ty shape:(288, 30)\n"
     ]
    },
    {
     "data": {
      "image/png": "[encoded data removed]",
      "text/plain": [
       "<Figure size 60x40 with 2 Axes>"
      ]
     },
     "metadata": {
      "needs_background": "light"
     },
     "output_type": "display_data"
    },
    {
     "name": "stdout",
     "output_type": "stream",
     "text": [
      "loading validation set\n",
      "\tx shape (before reshape):(97, 14, 20)\n",
      "\tx shape (after reshape):(97, 14, 20, 1)\n",
      "\ty shape:(97, 30)\n"
     ]
    },
    {
     "data": {
      "image/png": "[encoded data removed]",
      "text/plain": [
       "<Figure size 60x40 with 2 Axes>"
      ]
     },
     "metadata": {
      "needs_background": "light"
     },
     "output_type": "display_data"
    },
    {
     "name": "stdout",
     "output_type": "stream",
     "text": [
      "Starting with a fresh model\n",
      "Model: \"sequential_2\"\n",
      "_________________________________________________________________\n",
      "Layer (type)                 Output Shape              Param #   \n",
      "=================================================================\n",
      "conv2d_4 (Conv2D)            (None, 10, 16, 32)        832       \n",
      "_________________________________________________________________\n",
      "max_pooling2d_4 (MaxPooling2 (None, 5, 8, 32)          0         \n",
      "_________________________________________________________________\n",
      "conv2d_5 (Conv2D)            (None, 3, 6, 64)          18496     \n",
      "_________________________________________________________________\n",
      "max_pooling2d_5 (MaxPooling2 (None, 1, 3, 64)          0         \n",
      "_________________________________________________________________\n",
      "flatten_2 (Flatten)          (None, 192)               0         \n",
      "_________________________________________________________________\n",
      "dropout_4 (Dropout)          (None, 192)               0         \n",
      "_________________________________________________________________\n",
      "dense_4 (Dense)              (None, 128)               24704     \n",
      "_________________________________________________________________\n",
      "dropout_5 (Dropout)          (None, 128)               0         \n",
      "_________________________________________________________________\n",
      "dense_5 (Dense)              (None, 30)                3870      \n",
      "=================================================================\n",
      "Total params: 47,902\n",
      "Trainable params: 47,902\n",
      "Non-trainable params: 0\n",
      "_________________________________________________________________\n",
      "None\n",
      "Epoch 1/5\n",
      "9/9 [==============================] - 1s 25ms/step - loss: 3.3996 - accuracy: 0.0573 - val_loss: 3.4238 - val_accuracy: 0.0206\n",
      "Epoch 2/5\n",
      "9/9 [==============================] - 0s 13ms/step - loss: 3.3917 - accuracy: 0.0341 - val_loss: 3.4241 - val_accuracy: 0.0000e+00\n",
      "Epoch 3/5\n",
      "9/9 [==============================] - 0s 10ms/step - loss: 3.3739 - accuracy: 0.0541 - val_loss: 3.4307 - val_accuracy: 0.0000e+00\n",
      "Epoch 4/5\n",
      "9/9 [==============================] - 0s 10ms/step - loss: 3.3767 - accuracy: 0.0572 - val_loss: 3.4469 - val_accuracy: 0.0000e+00\n",
      "Epoch 5/5\n",
      "9/9 [==============================] - 0s 13ms/step - loss: 3.3830 - accuracy: 0.0365 - val_loss: 3.4462 - val_accuracy: 0.0000e+00\n"
     ]
    },
    {
     "data": {
      "image/png": "[encoded data removed]",
      "text/plain": [
       "<Figure size 512x384 with 1 Axes>"
      ]
     },
     "metadata": {
      "needs_background": "light"
     },
     "output_type": "display_data"
    },
    {
     "data": {
      "image/png": "[encoded data removed]",
      "text/plain": [
       "<Figure size 512x384 with 1 Axes>"
      ]
     },
     "metadata": {
      "needs_background": "light"
     },
     "output_type": "display_data"
    },
    {
     "name": "stdout",
     "output_type": "stream",
     "text": [
      "Saved model to disk\n",
      "Saved model to disk\n",
      "working on batch: 3/150\n",
      "working on batch: 4/150\n",
      "working on batch: 5/150\n",
      "working on batch: 6/150\n",
      "working on batch: 7/150\n",
      "working on batch: 8/150\n",
      "working on batch: 9/150\n",
      "working on batch: 10/150\n",
      "working on batch: 11/150\n",
      "working on batch: 12/150\n",
      "working on batch: 13/150\n",
      "working on batch: 14/150\n",
      "working on batch: 15/150\n",
      "working on batch: 16/150\n",
      "working on batch: 17/150\n",
      "working on batch: 18/150\n",
      "working on batch: 19/150\n",
      "working on batch: 20/150\n",
      "working on batch: 21/150\n",
      "working on batch: 22/150\n",
      "working on batch: 23/150\n",
      "working on batch: 24/150\n",
      "working on batch: 25/150\n",
      "working on batch: 26/150\n",
      "working on batch: 27/150\n",
      "working on batch: 28/150\n",
      "working on batch: 29/150\n",
      "working on batch: 30/150\n",
      "working on batch: 31/150\n",
      "working on batch: 32/150\n",
      "working on batch: 33/150\n",
      "working on batch: 34/150\n",
      "working on batch: 35/150\n",
      "working on batch: 36/150\n",
      "working on batch: 37/150\n",
      "working on batch: 38/150\n",
      "working on batch: 39/150\n",
      "working on batch: 40/150\n",
      "working on batch: 41/150\n",
      "working on batch: 42/150\n",
      "working on batch: 43/150\n",
      "working on batch: 44/150\n",
      "working on batch: 45/150\n",
      "working on batch: 46/150\n",
      "working on batch: 47/150\n",
      "working on batch: 48/150\n",
      "working on batch: 49/150\n",
      "working on batch: 50/150\n",
      "working on batch: 51/150\n",
      "working on batch: 52/150\n",
      "working on batch: 53/150\n",
      "working on batch: 54/150\n",
      "working on batch: 55/150\n",
      "working on batch: 56/150\n",
      "working on batch: 57/150\n",
      "working on batch: 58/150\n",
      "working on batch: 59/150\n",
      "working on batch: 60/150\n",
      "working on batch: 61/150\n",
      "working on batch: 62/150\n",
      "working on batch: 63/150\n",
      "working on batch: 64/150\n",
      "working on batch: 65/150\n",
      "working on batch: 66/150\n",
      "working on batch: 67/150\n",
      "working on batch: 68/150\n",
      "working on batch: 69/150\n",
      "working on batch: 70/150\n",
      "working on batch: 71/150\n",
      "working on batch: 72/150\n",
      "working on batch: 73/150\n",
      "working on batch: 74/150\n",
      "working on batch: 75/150\n",
      "working on batch: 76/150\n",
      "working on batch: 77/150\n",
      "working on batch: 78/150\n",
      "working on batch: 79/150\n",
      "working on batch: 80/150\n",
      "working on batch: 81/150\n",
      "working on batch: 82/150\n",
      "working on batch: 83/150\n",
      "working on batch: 84/150\n",
      "working on batch: 85/150\n",
      "working on batch: 86/150\n",
      "working on batch: 87/150\n",
      "working on batch: 88/150\n",
      "working on batch: 89/150\n",
      "working on batch: 90/150\n",
      "working on batch: 91/150\n",
      "working on batch: 92/150\n",
      "working on batch: 93/150\n",
      "working on batch: 94/150\n",
      "working on batch: 95/150\n",
      "working on batch: 96/150\n",
      "working on batch: 97/150\n",
      "working on batch: 98/150\n",
      "working on batch: 99/150\n",
      "working on batch: 100/150\n",
      "working on batch: 101/150\n",
      "working on batch: 102/150\n",
      "working on batch: 103/150\n",
      "working on batch: 104/150\n",
      "working on batch: 105/150\n",
      "working on batch: 106/150\n",
      "working on batch: 107/150\n",
      "working on batch: 108/150\n",
      "working on batch: 109/150\n",
      "working on batch: 110/150\n",
      "working on batch: 111/150\n",
      "working on batch: 112/150\n",
      "working on batch: 113/150\n",
      "working on batch: 114/150\n",
      "working on batch: 115/150\n",
      "working on batch: 116/150\n",
      "working on batch: 117/150\n",
      "working on batch: 118/150\n",
      "working on batch: 119/150\n",
      "working on batch: 120/150\n",
      "working on batch: 121/150\n",
      "working on batch: 122/150\n",
      "working on batch: 123/150\n",
      "working on batch: 124/150\n",
      "working on batch: 125/150\n",
      "working on batch: 126/150\n",
      "working on batch: 127/150\n",
      "working on batch: 128/150\n",
      "working on batch: 129/150\n",
      "working on batch: 130/150\n",
      "working on batch: 131/150\n",
      "working on batch: 132/150\n",
      "working on batch: 133/150\n",
      "working on batch: 134/150\n",
      "working on batch: 135/150\n",
      "working on batch: 136/150\n",
      "working on batch: 137/150\n",
      "working on batch: 138/150\n",
      "working on batch: 139/150\n",
      "working on batch: 140/150\n",
      "working on batch: 141/150\n",
      "working on batch: 142/150\n",
      "working on batch: 143/150\n",
      "working on batch: 144/150\n",
      "working on batch: 145/150\n",
      "working on batch: 146/150\n",
      "working on batch: 147/150\n",
      "working on batch: 148/150\n",
      "working on batch: 149/150\n",
      "working on batch: 150/150\n"
     ]
    }
   ],
   "source": [
    "batch_count = 1 # using a counter since enumerate doesn't work on skf.split\n",
    "total_splits = 150\n",
    "skf = StratifiedKFold(n_splits=total_splits, shuffle=True, random_state=42)\n",
    "for train_index, test_index in skf.split(X_master, y_master):\n",
    "    print(f'working on batch: {batch_count}/{total_splits}')\n",
    "    rs = ShuffleSplit(n_splits=1, test_size=.25, random_state=42)\n",
    "    X, y = X_master[test_index], y_master[test_index]\n",
    "    for train_index2, test_index2 in rs.split(X):\n",
    "        if batch_count > 2:\n",
    "            break\n",
    "        X_train, X_val = X[train_index2], X[test_index2]\n",
    "        y_train, y_val = y[train_index2], y[test_index2]\n",
    "        # Split is done, X=filename, y=target\n",
    "        X_train, y_train = train_val_load(X_train, y_train, num_classes, train_or_val = 'train')\n",
    "        X_val, y_val = train_val_load(X_val, y_val, num_classes, train_or_val = 'val')\n",
    "        \n",
    "        try:\n",
    "            loaded_model = tf.keras.models.load_model('model.h5')\n",
    "            print(\"Loading an existing model\")\n",
    "#             history = loaded_model.fit(X_train, y_train, batch_size=16, epochs=50, callbacks=[c1,c2,c3], verbose=1, validation_data=(X_val, y_val))\n",
    "            history = loaded_model.fit(X_train, y_train, batch_size=32, epochs=5, verbose=1, validation_data=(X_val, y_val))\n",
    "            plot_results(history)\n",
    "#             loaded_model.save('./MyModel_tf',save_format='tf')\n",
    "            save_model_to_disk(loaded_model)\n",
    "        except:\n",
    "            print(\"Starting with a fresh model\")\n",
    "            model = new_keras(input_shape=(\n",
    "                                    X_train.shape[1], \n",
    "                                    X_train.shape[2],1))\n",
    "#             history = model.fit(X_train, y_train, batch_size=16, epochs=30, callbacks=[c1,c2,c3], verbose=1, validation_data=(X_val, y_val))\n",
    "            history = model.fit(X_train, y_train, batch_size=32, epochs=5, verbose=1, validation_data=(X_val, y_val))\n",
    "            # Just deleted the callbacks from the previous line, try running again in the morning,\n",
    "            # Also maybe make another branch called development and quit pushing all this garbage.....\n",
    "            plot_results(history)\n",
    "            save_model_to_disk(model)\n",
    "#             model.save('./MyModel_tf',save_format='tf')\n",
    "            save_model_to_disk(model)\n",
    "            model=[]\n",
    "        X_train, y_train, X_val, y_val = [],[],[],[]\n",
    "    batch_count += 1"
   ]
  },
  {
   "cell_type": "code",
   "execution_count": null,
   "metadata": {},
   "outputs": [],
   "source": []
  }
 ],
 "metadata": {
  "kernelspec": {
   "display_name": "Python 3",
   "language": "python",
   "name": "python3"
  },
  "language_info": {
   "codemirror_mode": {
    "name": "ipython",
    "version": 3
   },
   "file_extension": ".py",
   "mimetype": "text/x-python",
   "name": "python",
   "nbconvert_exporter": "python",
   "pygments_lexer": "ipython3",
   "version": "3.8.2"
  }
 },
 "nbformat": 4,
 "nbformat_minor": 4
}
