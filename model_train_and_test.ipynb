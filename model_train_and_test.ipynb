{
 "cells": [
  {
   "cell_type": "markdown",
   "metadata": {},
   "source": [
    "# Audio Recognition"
   ]
  },
  {
   "cell_type": "code",
   "execution_count": 1,
   "metadata": {},
   "outputs": [],
   "source": [
    "#import pyaudio\n",
    "import matplotlib.pyplot as plt\n",
    "from scipy import signal\n",
    "from scipy.io import wavfile\n",
    "import os\n",
    "import numpy as np\n",
    "import pandas as pd\n",
    "import random\n",
    "from skimage.measure import block_reduce\n",
    "# from tqdm.notebook import tqdm\n",
    "from sklearn.model_selection import StratifiedKFold, ShuffleSplit\n",
    "\n",
    "#To find the duration of wave file in seconds\n",
    "import wave\n",
    "import contextlib\n",
    "import librosa\n",
    "import soundfile as sf\n",
    "\n",
    "#Keras imports\n",
    "import keras\n",
    "from keras.layers import Dense, Conv2D, Dropout, Flatten, MaxPooling2D\n",
    "from keras.models import Sequential, model_from_json\n",
    "import tensorflow as tf\n",
    "\n",
    "import time\n",
    "import datetime"
   ]
  },
  {
   "cell_type": "code",
   "execution_count": 2,
   "metadata": {},
   "outputs": [
    {
     "name": "stdout",
     "output_type": "stream",
     "text": [
      "1 Physical GPUs, 1 Logical GPU\n"
     ]
    }
   ],
   "source": [
    "gpus = tf.config.experimental.list_physical_devices('GPU')\n",
    "if gpus:\n",
    "  # Restrict TensorFlow to only use the first GPU\n",
    "    try:\n",
    "        tf.config.experimental.set_memory_growth(gpus[0], True)\n",
    "        tf.config.experimental.set_visible_devices(gpus[0], 'GPU')\n",
    "        logical_gpus = tf.config.experimental.list_logical_devices('GPU')\n",
    "        print(len(gpus), \"Physical GPUs,\", len(logical_gpus), \"Logical GPU\")\n",
    "    except RuntimeError as e:\n",
    "        # Visible devices must be set before GPUs have been initialized\n",
    "        print(e)"
   ]
  },
  {
   "cell_type": "code",
   "execution_count": 3,
   "metadata": {},
   "outputs": [],
   "source": [
    "def save_model_to_disk(model):\n",
    "    \"\"\"\n",
    "    Converts the model to a json and saves as an h5 file\n",
    "    \"\"\"\n",
    "    model_json = model.to_json()\n",
    "    with open(\"model.json\", \"w\") as json_file:\n",
    "        json_file.write(model_json)\n",
    "    # serialize weights to HDF5\n",
    "    model.save_weights(\"model.h5\")\n",
    "    print(\"Saved model to disk\")\n",
    "\n",
    "def normalize_gray(array):\n",
    "    \"\"\"\n",
    "    Normalize Gray colored image\n",
    "    \"\"\"\n",
    "    return (array - array.min())/(array.max() - array.min())\n",
    "\n",
    "def findDuration(fname):\n",
    "    with contextlib.closing(wave.open(fname,'r')) as f:\n",
    "        frames = f.getnframes()\n",
    "        rate = f.getframerate()\n",
    "        sw   = f.getsampwidth()\n",
    "        chan = f.getnchannels()\n",
    "        duration = frames / float(rate)\n",
    "        #print(\"File:\", fname, \"--->\",frames, rate, sw, chan)\n",
    "        return duration\n",
    "        \n",
    "def graph_spectrogram(wav_file, nfft=512, noverlap=256):\n",
    "    \"\"\"\n",
    "    Converts the wav file to a spectrogram for the NN to interpret\n",
    "    \"\"\"\n",
    "    findDuration(wav_file)\n",
    "    rate, data = wavfile.read(wav_file)\n",
    "    #print(\"\")\n",
    "    fig,ax = plt.subplots(1)\n",
    "    fig.subplots_adjust(left=0,right=1,bottom=0,top=1)\n",
    "    ax.axis('off')\n",
    "    # pxx, freqs, bins, im = ax.specgram(x=data, Fs=rate, noverlap=noverlap, NFFT=nfft)\n",
    "    pxx, freqs, bins, im = ax.specgram(x=data, Fs=rate, cmap=\"gray\", noverlap=noverlap, NFFT=nfft)\n",
    "    ax.axis('off')\n",
    "    plt.rcParams['figure.figsize'] = [0.75,0.5]\n",
    "    #fig.savefig('sp_xyz.png', dpi=300, frameon='false')\n",
    "    fig.canvas.draw()\n",
    "    size_inches  = fig.get_size_inches()\n",
    "    dpi          = fig.get_dpi()\n",
    "    width, height = fig.get_size_inches() * fig.get_dpi()\n",
    "\n",
    "    #print(size_inches, dpi, width, height)\n",
    "    mplimage = np.frombuffer(fig.canvas.tostring_rgb(), dtype=np.uint8)\n",
    "    #print(\"MPLImage Shape: \", np.shape(mplimage))\n",
    "    imarray = np.reshape(mplimage, (int(height), int(width), 3))\n",
    "#     plt.plot(fig)\n",
    "    plt.close(fig)\n",
    "#     print(f'imarray shape: {imarray[:,:,1].shape}')\n",
    "    return imarray[:,:,1]"
   ]
  },
  {
   "cell_type": "markdown",
   "metadata": {},
   "source": [
    "## Creating a Directory for the Files"
   ]
  },
  {
   "cell_type": "code",
   "execution_count": 4,
   "metadata": {},
   "outputs": [],
   "source": [
    "# os.environ['KMP_DUPLICATE_LIB_OK']  = 'True'\n",
    "\n",
    "folder_names = [f for f in os.listdir('train/audio') if not 'background' in f]\n",
    "folder_names.sort()\n",
    "\n",
    "imheight = int(17)\n",
    "imwidth = int(25)\n",
    "k = int(0)"
   ]
  },
  {
   "cell_type": "code",
   "execution_count": 5,
   "metadata": {},
   "outputs": [],
   "source": [
    "file = open(\"train/testing_list.txt\", \"r\")\n",
    "testing_list = file.read().split('\\n')\n",
    "file.close()\n",
    "file = open(\"train/validation_list.txt\", \"r\")\n",
    "validation_list = file.read().split('\\n')"
   ]
  },
  {
   "cell_type": "code",
   "execution_count": 6,
   "metadata": {},
   "outputs": [
    {
     "data": {
      "text/html": [
       "<div>\n",
       "<style scoped>\n",
       "    .dataframe tbody tr th:only-of-type {\n",
       "        vertical-align: middle;\n",
       "    }\n",
       "\n",
       "    .dataframe tbody tr th {\n",
       "        vertical-align: top;\n",
       "    }\n",
       "\n",
       "    .dataframe thead th {\n",
       "        text-align: right;\n",
       "    }\n",
       "</style>\n",
       "<table border=\"1\" class=\"dataframe\">\n",
       "  <thead>\n",
       "    <tr style=\"text-align: right;\">\n",
       "      <th></th>\n",
       "      <th>filename</th>\n",
       "      <th>target</th>\n",
       "      <th>train_val_test</th>\n",
       "    </tr>\n",
       "  </thead>\n",
       "  <tbody>\n",
       "    <tr>\n",
       "      <th>0</th>\n",
       "      <td>bed/00176480_nohash_0.wav</td>\n",
       "      <td>bed</td>\n",
       "      <td>train</td>\n",
       "    </tr>\n",
       "    <tr>\n",
       "      <th>1</th>\n",
       "      <td>bed/004ae714_nohash_0.wav</td>\n",
       "      <td>bed</td>\n",
       "      <td>train</td>\n",
       "    </tr>\n",
       "    <tr>\n",
       "      <th>2</th>\n",
       "      <td>bed/004ae714_nohash_1.wav</td>\n",
       "      <td>bed</td>\n",
       "      <td>train</td>\n",
       "    </tr>\n",
       "    <tr>\n",
       "      <th>3</th>\n",
       "      <td>bed/00f0204f_nohash_0.wav</td>\n",
       "      <td>bed</td>\n",
       "      <td>train</td>\n",
       "    </tr>\n",
       "    <tr>\n",
       "      <th>4</th>\n",
       "      <td>bed/00f0204f_nohash_1.wav</td>\n",
       "      <td>bed</td>\n",
       "      <td>train</td>\n",
       "    </tr>\n",
       "  </tbody>\n",
       "</table>\n",
       "</div>"
      ],
      "text/plain": [
       "                    filename target train_val_test\n",
       "0  bed/00176480_nohash_0.wav    bed          train\n",
       "1  bed/004ae714_nohash_0.wav    bed          train\n",
       "2  bed/004ae714_nohash_1.wav    bed          train\n",
       "3  bed/00f0204f_nohash_0.wav    bed          train\n",
       "4  bed/00f0204f_nohash_1.wav    bed          train"
      ]
     },
     "execution_count": 6,
     "metadata": {},
     "output_type": "execute_result"
    }
   ],
   "source": [
    "master_file_list = []\n",
    "master_target_list = []\n",
    "train_val_test_list = []\n",
    "for phrase in folder_names:\n",
    "    file_list = [phrase + '/' + f for f in os.listdir('train/audio/' + phrase) if '.wav' in f]\n",
    "    for file in file_list:\n",
    "        if file in testing_list:\n",
    "            train_val_test_list.append('test')\n",
    "        elif file in validation_list:\n",
    "            train_val_test_list.append('val')\n",
    "        else:\n",
    "            train_val_test_list.append('train')\n",
    "        master_target_list.append(phrase)\n",
    "        master_file_list.append(file)\n",
    "data = np.transpose(np.array([master_file_list, master_target_list, train_val_test_list]))\n",
    "master_df = pd.DataFrame(data = data, columns=['filename','target','train_val_test'])\n",
    "master_df.head()"
   ]
  },
  {
   "cell_type": "markdown",
   "metadata": {},
   "source": [
    "## Creating the Keras Model"
   ]
  },
  {
   "cell_type": "code",
   "execution_count": 7,
   "metadata": {},
   "outputs": [],
   "source": [
    "def new_keras():\n",
    "    # low vram utilization, try changing or adding conv layers \n",
    "    # input_shape = (imheight, imwidth, 1)\n",
    "    input_shape = (36, 54, 1)\n",
    "\n",
    "    model = Sequential()\n",
    "    model.add(Conv2D(32, kernel_size=(5, 5), activation='relu', input_shape=input_shape))\n",
    "    # model.add(MaxPooling2D(pool_size=(2, 2)))\n",
    "    model.add(Conv2D(32, kernel_size=(3, 3), activation='relu'))\n",
    "    model.add(MaxPooling2D(pool_size=(2, 2)))\n",
    "    model.add(Flatten())\n",
    "    model.add(Dropout(0.2))\n",
    "    model.add(Dense(128, activation='relu'))\n",
    "    model.add(Dropout(0.2))\n",
    "    model.add(Dense(num_classes, activation='softmax'))\n",
    "\n",
    "    opt = keras.optimizers.Adam(learning_rate=0.01) #if not converging try increasing\n",
    "    model.compile(loss=keras.losses.categorical_crossentropy, optimizer=opt, metrics=['accuracy'])\n",
    "    print(model.summary())\n",
    "    return model"
   ]
  },
  {
   "cell_type": "code",
   "execution_count": 8,
   "metadata": {},
   "outputs": [],
   "source": [
    "def load_waves(fpath):\n",
    "    fpath = 'train/audio/' + fpath\n",
    "    spectrogram = graph_spectrogram(fpath)\n",
    "#     graygram = rgb2gray(spectrogram)\n",
    "    normgram = normalize_gray(spectrogram)\n",
    "#     norm_shape = normgram.shape\n",
    "#     redgram = block_reduce(normgram, block_size = (3,3), func = np.mean)\n",
    "#     return redgram\n",
    "    return(normgram)"
   ]
  },
  {
   "cell_type": "code",
   "execution_count": 9,
   "metadata": {},
   "outputs": [],
   "source": [
    "def plot_results(history):\n",
    "    # change figsize back to default size\n",
    "    plt.rcParams['figure.figsize'] = [6.4, 4.8]\n",
    "    \n",
    "    # summarize history for accuracy\n",
    "    plt.plot(history.history['accuracy'])\n",
    "    plt.plot(history.history['val_accuracy'])\n",
    "    plt.title('model accuracy')\n",
    "    plt.ylabel('accuracy')\n",
    "    plt.xlabel('epoch')\n",
    "    plt.legend(['train', 'test'], loc='upper left')\n",
    "    plt.show()\n",
    "    \n",
    "    # summarize history for loss\n",
    "    plt.plot(history.history['loss'])\n",
    "    plt.plot(history.history['val_loss'])\n",
    "    plt.title('model loss')\n",
    "    plt.ylabel('loss')\n",
    "    plt.xlabel('epoch')\n",
    "    plt.legend(['train', 'test'], loc='upper left')\n",
    "    plt.show()"
   ]
  },
  {
   "cell_type": "code",
   "execution_count": 18,
   "metadata": {},
   "outputs": [
    {
     "name": "stdout",
     "output_type": "stream",
     "text": [
      "Label mapping: {'yes': 0, 'wow': 1, 'go': 2, 'stop': 3, 'marvin': 4, 'bird': 5, 'two': 6, 'four': 7, 'zero': 8, 'up': 9, 'nine': 10, 'down': 11, 'three': 12, 'on': 13, 'eight': 14, 'house': 15, 'off': 16, 'six': 17, 'no': 18, 'seven': 19, 'sheila': 20, 'happy': 21, 'bed': 22, 'dog': 23, 'five': 24, 'tree': 25, 'right': 26, 'one': 27, 'left': 28, 'cat': 29}\n",
      "working on batch: 1/10\n",
      "loading training images\n"
     ]
    },
    {
     "name": "stderr",
     "output_type": "stream",
     "text": [
      "C:\\ProgramData\\Anaconda3\\lib\\site-packages\\matplotlib\\axes\\_axes.py:7544: RuntimeWarning: divide by zero encountered in log10\n",
      "  Z = 10. * np.log10(spec)\n"
     ]
    },
    {
     "name": "stdout",
     "output_type": "stream",
     "text": [
      "loading validation images\n",
      "reshaping...\n",
      "xtrain shape:(4341, 36, 54, 1)\n",
      "xval shape:(1448, 36, 54, 1)\n",
      "Epoch 1/5\n",
      "1086/1086 [==============================] - 8s 7ms/step - loss: 3.3998 - accuracy: 0.0323 - val_loss: 3.4068 - val_accuracy: 0.0338\n",
      "Epoch 2/5\n",
      "1086/1086 [==============================] - 7s 7ms/step - loss: 3.4001 - accuracy: 0.0290 - val_loss: 3.4014 - val_accuracy: 0.0394\n",
      "Epoch 3/5\n",
      "1086/1086 [==============================] - 7s 7ms/step - loss: 3.4002 - accuracy: 0.0355 - val_loss: 3.4014 - val_accuracy: 0.0283\n",
      "Epoch 4/5\n",
      "1086/1086 [==============================] - 7s 7ms/step - loss: 3.3987 - accuracy: 0.0320 - val_loss: 3.4021 - val_accuracy: 0.0325\n",
      "Epoch 5/5\n",
      "1086/1086 [==============================] - 7s 7ms/step - loss: 3.3992 - accuracy: 0.0336 - val_loss: 3.4066 - val_accuracy: 0.0283\n"
     ]
    },
    {
     "data": {
      "image/png": "[encoded data removed]",
      "text/plain": [
       "<Figure size 460.8x345.6 with 1 Axes>"
      ]
     },
     "metadata": {
      "needs_background": "light"
     },
     "output_type": "display_data"
    },
    {
     "data": {
      "image/png": "[encoded data removed]",
      "text/plain": [
       "<Figure size 460.8x345.6 with 1 Axes>"
      ]
     },
     "metadata": {
      "needs_background": "light"
     },
     "output_type": "display_data"
    },
    {
     "name": "stdout",
     "output_type": "stream",
     "text": [
      "INFO:tensorflow:Assets written to: ./MyModel_tf\\assets\n"
     ]
    },
    {
     "ename": "TypeError",
     "evalue": "'int' object is not subscriptable",
     "output_type": "error",
     "traceback": [
      "\u001b[1;31m---------------------------------------------------------------------------\u001b[0m",
      "\u001b[1;31mTypeError\u001b[0m                                 Traceback (most recent call last)",
      "\u001b[1;32m<ipython-input-18-b5c4e5f39efc>\u001b[0m in \u001b[0;36m<module>\u001b[1;34m\u001b[0m\n\u001b[0;32m     26\u001b[0m         \u001b[1;31m#should only run once but is currently running twice (w/ n_splits = 2)\u001b[0m\u001b[1;33m\u001b[0m\u001b[1;33m\u001b[0m\u001b[1;33m\u001b[0m\u001b[0m\n\u001b[0;32m     27\u001b[0m         \u001b[0mX_train\u001b[0m\u001b[1;33m,\u001b[0m \u001b[0mX_val\u001b[0m \u001b[1;33m=\u001b[0m \u001b[0mX\u001b[0m\u001b[1;33m[\u001b[0m\u001b[0mtrain_index2\u001b[0m\u001b[1;33m]\u001b[0m\u001b[1;33m,\u001b[0m \u001b[0mX\u001b[0m\u001b[1;33m[\u001b[0m\u001b[0mtest_index2\u001b[0m\u001b[1;33m]\u001b[0m\u001b[1;33m\u001b[0m\u001b[1;33m\u001b[0m\u001b[0m\n\u001b[1;32m---> 28\u001b[1;33m         \u001b[0my_train\u001b[0m\u001b[1;33m,\u001b[0m \u001b[0my_val\u001b[0m \u001b[1;33m=\u001b[0m \u001b[0my\u001b[0m\u001b[1;33m[\u001b[0m\u001b[0mtrain_index2\u001b[0m\u001b[1;33m]\u001b[0m\u001b[1;33m,\u001b[0m \u001b[0my\u001b[0m\u001b[1;33m[\u001b[0m\u001b[0mtest_index2\u001b[0m\u001b[1;33m]\u001b[0m\u001b[1;33m\u001b[0m\u001b[1;33m\u001b[0m\u001b[0m\n\u001b[0m\u001b[0;32m     29\u001b[0m         \u001b[1;31m# Split is done, X=filename, y=target\u001b[0m\u001b[1;33m\u001b[0m\u001b[1;33m\u001b[0m\u001b[1;33m\u001b[0m\u001b[0m\n\u001b[0;32m     30\u001b[0m \u001b[1;33m\u001b[0m\u001b[0m\n",
      "\u001b[1;31mTypeError\u001b[0m: 'int' object is not subscriptable"
     ]
    }
   ],
   "source": [
    "num_classes = len(master_df['target'].unique().tolist())\n",
    "#SKF is just being used to batch the data into memory, not do any sort of k-fold training process\n",
    "total_splits = 10\n",
    "\n",
    "skf = StratifiedKFold(n_splits=total_splits, shuffle=True, random_state=42)\n",
    "\n",
    "X_master = master_df['filename'][[(val in ['train','val']) for val in master_df['train_val_test']]]\n",
    "y_master = master_df['target'][[(val in ['train','val']) for val in master_df['train_val_test']]]\n",
    "X_master, y_master = np.array(X_master), np.array(y_master)\n",
    "\n",
    "# from https://www.educative.io/edpresso/how-to-perform-one-hot-encoding-using-keras\n",
    "# also has link to OHE using sklearn\n",
    "y_master_set = list(set(y_master))\n",
    "mapping = {}\n",
    "for x in range(len(y_master_set)):\n",
    "    mapping[y_master_set[x]] = x\n",
    "print(f'Label mapping: {mapping}')\n",
    "\n",
    "batch_count = 1\n",
    "for train_index, test_index in skf.split(X_master, y_master):\n",
    "    print(f'working on batch: {batch_count}/{total_splits}')\n",
    "    rs = ShuffleSplit(n_splits=2, test_size=.25, random_state=42)\n",
    "#     rs = ShuffleSplit(n_splits=1, test_size=.25, random_state=42)\n",
    "    X, y = X_master[test_index], y_master[test_index]\n",
    "    for train_index2, test_index2 in rs.split(X):\n",
    "        #should only run once but is currently running twice (w/ n_splits = 2)\n",
    "        X_train, X_val = X[train_index2], X[test_index2]\n",
    "        y_train, y_val = y[train_index2], y[test_index2]\n",
    "        # Split is done, X=filename, y=target\n",
    "\n",
    "        train_sound_clips = []\n",
    "        val_sound_clips = []\n",
    "        \n",
    "        print(f'loading training images')\n",
    "        for fpath in X_train:\n",
    "            # update code to `try` loading pickles\n",
    "            # or preprocess sound clips and save as pickles\n",
    "            redgram = load_waves(fpath)\n",
    "            # print(np.shape(redgram))\n",
    "            # redgram shape is (36, 54)\n",
    "            train_sound_clips.append(redgram)\n",
    "#         playing with dtypes...\n",
    "#         train_sound_clips = np.array(train_sound_clips, dtype=object)\n",
    "#         train_sound_clips = np.asarray(train_sound_clips).astype('float32')\n",
    "#         train_sound_clips = train_sound_clips.astype('float32')\n",
    "        train_sound_clips = np.array(train_sound_clips, dtype=np.float32)\n",
    "        \n",
    "        print(f'loading validation images')\n",
    "        for fpath in X_val:\n",
    "            redgram = np.array(load_waves(fpath))\n",
    "            val_sound_clips.append(redgram)\n",
    "#         playing with dtypes...\n",
    "#         val_sound_clips = np.array(val_sound_clips, dtype=object)\n",
    "#         val_sound_clips = np.asarray(val_sound_clips).astype('float32')\n",
    "#         val_sound_clips = val_sound_clips.astype('float32')\n",
    "        val_sound_clips = np.array(val_sound_clips, dtype=np.float32)\n",
    "        \n",
    "        print('reshaping...')\n",
    "        x_train = train_sound_clips.reshape(X_train.shape[0],\n",
    "                                            train_sound_clips.shape[1], \n",
    "                                            train_sound_clips.shape[2],1)\n",
    "        print(f'xtrain shape:{x_train.shape}')\n",
    "        for y in range(len(y_train)):\n",
    "            y_train[y] = mapping[y_train[y]]\n",
    "        y_train = keras.utils.to_categorical(y_train, num_classes)\n",
    "        \n",
    "        x_val = val_sound_clips.reshape(X_val.shape[0],\n",
    "                                        val_sound_clips.shape[1],\n",
    "                                        val_sound_clips.shape[2],1)\n",
    "        print(f'xval shape:{x_val.shape}')\n",
    "        for y in range(len(y_val)):\n",
    "            y_val[y] = mapping[y_val[y]]\n",
    "        y_val = keras.utils.to_categorical(y_val, num_classes)\n",
    "        \n",
    "        try:\n",
    "            loaded_model = tf.keras.models.load_model('./MyModel_tf')\n",
    "            history = loaded_model.fit(x_train, y_train, batch_size=4, epochs=5, verbose=1, validation_data=(x_val, y_val))\n",
    "            plot_results(history)\n",
    "            loaded_model.save('./MyModel_tf',save_format='tf')\n",
    "        except:\n",
    "            print(\"Starting with a fresh model\")\n",
    "            model = new_keras()\n",
    "            history = model.fit(x_train, y_train, batch_size=4, epochs=5, verbose=1, validation_data=(x_val, y_val))\n",
    "            plot_results(history)\n",
    "            model.save('./MyModel_tf',save_format='tf')\n",
    "            model=[]\n",
    "    print(f'done with batch:{batch_count}/{total_splits}')\n",
    "    batch_count += 1"
   ]
  },
  {
   "cell_type": "code",
   "execution_count": null,
   "metadata": {},
   "outputs": [],
   "source": []
  }
 ],
 "metadata": {
  "kernelspec": {
   "display_name": "Python 3",
   "language": "python",
   "name": "python3"
  },
  "language_info": {
   "codemirror_mode": {
    "name": "ipython",
    "version": 3
   },
   "file_extension": ".py",
   "mimetype": "text/x-python",
   "name": "python",
   "nbconvert_exporter": "python",
   "pygments_lexer": "ipython3",
   "version": "3.7.9"
  }
 },
 "nbformat": 4,
 "nbformat_minor": 4
}
